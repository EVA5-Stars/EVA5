{
  "nbformat": 4,
  "nbformat_minor": 0,
  "metadata": {
    "colab": {
      "name": "EVA5_Submission_Session_6_in_progress.ipynb",
      "provenance": [],
      "collapsed_sections": [],
      "include_colab_link": true
    },
    "kernelspec": {
      "name": "python3",
      "display_name": "Python 3"
    },
    "widgets": {
      "application/vnd.jupyter.widget-state+json": {
        "3750a02061be4d97b19fc60277b83b66": {
          "model_module": "@jupyter-widgets/controls",
          "model_name": "HBoxModel",
          "state": {
            "_view_name": "HBoxView",
            "_dom_classes": [],
            "_model_name": "HBoxModel",
            "_view_module": "@jupyter-widgets/controls",
            "_model_module_version": "1.5.0",
            "_view_count": null,
            "_view_module_version": "1.5.0",
            "box_style": "",
            "layout": "IPY_MODEL_9473c96813e545119855295aa31e6a44",
            "_model_module": "@jupyter-widgets/controls",
            "children": [
              "IPY_MODEL_9a223528faa949c5ab0e6650df3fc7bb",
              "IPY_MODEL_a409a65792b145d8896e91369a441e3f"
            ]
          }
        },
        "9473c96813e545119855295aa31e6a44": {
          "model_module": "@jupyter-widgets/base",
          "model_name": "LayoutModel",
          "state": {
            "_view_name": "LayoutView",
            "grid_template_rows": null,
            "right": null,
            "justify_content": null,
            "_view_module": "@jupyter-widgets/base",
            "overflow": null,
            "_model_module_version": "1.2.0",
            "_view_count": null,
            "flex_flow": null,
            "width": null,
            "min_width": null,
            "border": null,
            "align_items": null,
            "bottom": null,
            "_model_module": "@jupyter-widgets/base",
            "top": null,
            "grid_column": null,
            "overflow_y": null,
            "overflow_x": null,
            "grid_auto_flow": null,
            "grid_area": null,
            "grid_template_columns": null,
            "flex": null,
            "_model_name": "LayoutModel",
            "justify_items": null,
            "grid_row": null,
            "max_height": null,
            "align_content": null,
            "visibility": null,
            "align_self": null,
            "height": null,
            "min_height": null,
            "padding": null,
            "grid_auto_rows": null,
            "grid_gap": null,
            "max_width": null,
            "order": null,
            "_view_module_version": "1.2.0",
            "grid_template_areas": null,
            "object_position": null,
            "object_fit": null,
            "grid_auto_columns": null,
            "margin": null,
            "display": null,
            "left": null
          }
        },
        "9a223528faa949c5ab0e6650df3fc7bb": {
          "model_module": "@jupyter-widgets/controls",
          "model_name": "FloatProgressModel",
          "state": {
            "_view_name": "ProgressView",
            "style": "IPY_MODEL_17179bf1b57d41e5bfa1da815978c77c",
            "_dom_classes": [],
            "description": "",
            "_model_name": "FloatProgressModel",
            "bar_style": "info",
            "max": 1,
            "_view_module": "@jupyter-widgets/controls",
            "_model_module_version": "1.5.0",
            "value": 1,
            "_view_count": null,
            "_view_module_version": "1.5.0",
            "orientation": "horizontal",
            "min": 0,
            "description_tooltip": null,
            "_model_module": "@jupyter-widgets/controls",
            "layout": "IPY_MODEL_284a46628aac4a94b6bfaf28855d755a"
          }
        },
        "a409a65792b145d8896e91369a441e3f": {
          "model_module": "@jupyter-widgets/controls",
          "model_name": "HTMLModel",
          "state": {
            "_view_name": "HTMLView",
            "style": "IPY_MODEL_910fb54be4a744f1b23369c785c0fb29",
            "_dom_classes": [],
            "description": "",
            "_model_name": "HTMLModel",
            "placeholder": "​",
            "_view_module": "@jupyter-widgets/controls",
            "_model_module_version": "1.5.0",
            "value": " 9920512/? [00:20&lt;00:00, 1523932.29it/s]",
            "_view_count": null,
            "_view_module_version": "1.5.0",
            "description_tooltip": null,
            "_model_module": "@jupyter-widgets/controls",
            "layout": "IPY_MODEL_5fb88327cb234c7fa593861a495995e0"
          }
        },
        "17179bf1b57d41e5bfa1da815978c77c": {
          "model_module": "@jupyter-widgets/controls",
          "model_name": "ProgressStyleModel",
          "state": {
            "_view_name": "StyleView",
            "_model_name": "ProgressStyleModel",
            "description_width": "initial",
            "_view_module": "@jupyter-widgets/base",
            "_model_module_version": "1.5.0",
            "_view_count": null,
            "_view_module_version": "1.2.0",
            "bar_color": null,
            "_model_module": "@jupyter-widgets/controls"
          }
        },
        "284a46628aac4a94b6bfaf28855d755a": {
          "model_module": "@jupyter-widgets/base",
          "model_name": "LayoutModel",
          "state": {
            "_view_name": "LayoutView",
            "grid_template_rows": null,
            "right": null,
            "justify_content": null,
            "_view_module": "@jupyter-widgets/base",
            "overflow": null,
            "_model_module_version": "1.2.0",
            "_view_count": null,
            "flex_flow": null,
            "width": null,
            "min_width": null,
            "border": null,
            "align_items": null,
            "bottom": null,
            "_model_module": "@jupyter-widgets/base",
            "top": null,
            "grid_column": null,
            "overflow_y": null,
            "overflow_x": null,
            "grid_auto_flow": null,
            "grid_area": null,
            "grid_template_columns": null,
            "flex": null,
            "_model_name": "LayoutModel",
            "justify_items": null,
            "grid_row": null,
            "max_height": null,
            "align_content": null,
            "visibility": null,
            "align_self": null,
            "height": null,
            "min_height": null,
            "padding": null,
            "grid_auto_rows": null,
            "grid_gap": null,
            "max_width": null,
            "order": null,
            "_view_module_version": "1.2.0",
            "grid_template_areas": null,
            "object_position": null,
            "object_fit": null,
            "grid_auto_columns": null,
            "margin": null,
            "display": null,
            "left": null
          }
        },
        "910fb54be4a744f1b23369c785c0fb29": {
          "model_module": "@jupyter-widgets/controls",
          "model_name": "DescriptionStyleModel",
          "state": {
            "_view_name": "StyleView",
            "_model_name": "DescriptionStyleModel",
            "description_width": "",
            "_view_module": "@jupyter-widgets/base",
            "_model_module_version": "1.5.0",
            "_view_count": null,
            "_view_module_version": "1.2.0",
            "_model_module": "@jupyter-widgets/controls"
          }
        },
        "5fb88327cb234c7fa593861a495995e0": {
          "model_module": "@jupyter-widgets/base",
          "model_name": "LayoutModel",
          "state": {
            "_view_name": "LayoutView",
            "grid_template_rows": null,
            "right": null,
            "justify_content": null,
            "_view_module": "@jupyter-widgets/base",
            "overflow": null,
            "_model_module_version": "1.2.0",
            "_view_count": null,
            "flex_flow": null,
            "width": null,
            "min_width": null,
            "border": null,
            "align_items": null,
            "bottom": null,
            "_model_module": "@jupyter-widgets/base",
            "top": null,
            "grid_column": null,
            "overflow_y": null,
            "overflow_x": null,
            "grid_auto_flow": null,
            "grid_area": null,
            "grid_template_columns": null,
            "flex": null,
            "_model_name": "LayoutModel",
            "justify_items": null,
            "grid_row": null,
            "max_height": null,
            "align_content": null,
            "visibility": null,
            "align_self": null,
            "height": null,
            "min_height": null,
            "padding": null,
            "grid_auto_rows": null,
            "grid_gap": null,
            "max_width": null,
            "order": null,
            "_view_module_version": "1.2.0",
            "grid_template_areas": null,
            "object_position": null,
            "object_fit": null,
            "grid_auto_columns": null,
            "margin": null,
            "display": null,
            "left": null
          }
        },
        "3e4e5385337f401c87fc24b8a7eb88d7": {
          "model_module": "@jupyter-widgets/controls",
          "model_name": "HBoxModel",
          "state": {
            "_view_name": "HBoxView",
            "_dom_classes": [],
            "_model_name": "HBoxModel",
            "_view_module": "@jupyter-widgets/controls",
            "_model_module_version": "1.5.0",
            "_view_count": null,
            "_view_module_version": "1.5.0",
            "box_style": "",
            "layout": "IPY_MODEL_c3dca08b377c4aa38b96148125187e45",
            "_model_module": "@jupyter-widgets/controls",
            "children": [
              "IPY_MODEL_7387c8640b9c457f81fe0f81bde61ddc",
              "IPY_MODEL_bc4abb63b2b84bf19a16786a2ed95f83"
            ]
          }
        },
        "c3dca08b377c4aa38b96148125187e45": {
          "model_module": "@jupyter-widgets/base",
          "model_name": "LayoutModel",
          "state": {
            "_view_name": "LayoutView",
            "grid_template_rows": null,
            "right": null,
            "justify_content": null,
            "_view_module": "@jupyter-widgets/base",
            "overflow": null,
            "_model_module_version": "1.2.0",
            "_view_count": null,
            "flex_flow": null,
            "width": null,
            "min_width": null,
            "border": null,
            "align_items": null,
            "bottom": null,
            "_model_module": "@jupyter-widgets/base",
            "top": null,
            "grid_column": null,
            "overflow_y": null,
            "overflow_x": null,
            "grid_auto_flow": null,
            "grid_area": null,
            "grid_template_columns": null,
            "flex": null,
            "_model_name": "LayoutModel",
            "justify_items": null,
            "grid_row": null,
            "max_height": null,
            "align_content": null,
            "visibility": null,
            "align_self": null,
            "height": null,
            "min_height": null,
            "padding": null,
            "grid_auto_rows": null,
            "grid_gap": null,
            "max_width": null,
            "order": null,
            "_view_module_version": "1.2.0",
            "grid_template_areas": null,
            "object_position": null,
            "object_fit": null,
            "grid_auto_columns": null,
            "margin": null,
            "display": null,
            "left": null
          }
        },
        "7387c8640b9c457f81fe0f81bde61ddc": {
          "model_module": "@jupyter-widgets/controls",
          "model_name": "FloatProgressModel",
          "state": {
            "_view_name": "ProgressView",
            "style": "IPY_MODEL_b2a27b93fbc640f08eae26afede4efad",
            "_dom_classes": [],
            "description": "",
            "_model_name": "FloatProgressModel",
            "bar_style": "success",
            "max": 1,
            "_view_module": "@jupyter-widgets/controls",
            "_model_module_version": "1.5.0",
            "value": 1,
            "_view_count": null,
            "_view_module_version": "1.5.0",
            "orientation": "horizontal",
            "min": 0,
            "description_tooltip": null,
            "_model_module": "@jupyter-widgets/controls",
            "layout": "IPY_MODEL_b78a4d80ff2b4532bf4ed5ea6e6a82a6"
          }
        },
        "bc4abb63b2b84bf19a16786a2ed95f83": {
          "model_module": "@jupyter-widgets/controls",
          "model_name": "HTMLModel",
          "state": {
            "_view_name": "HTMLView",
            "style": "IPY_MODEL_58e4e798c8be43e6990ae8695535b1a0",
            "_dom_classes": [],
            "description": "",
            "_model_name": "HTMLModel",
            "placeholder": "​",
            "_view_module": "@jupyter-widgets/controls",
            "_model_module_version": "1.5.0",
            "value": " 32768/? [00:00&lt;00:00, 48954.21it/s]",
            "_view_count": null,
            "_view_module_version": "1.5.0",
            "description_tooltip": null,
            "_model_module": "@jupyter-widgets/controls",
            "layout": "IPY_MODEL_d1b5436cf7584d70ae9e67210ce01cf4"
          }
        },
        "b2a27b93fbc640f08eae26afede4efad": {
          "model_module": "@jupyter-widgets/controls",
          "model_name": "ProgressStyleModel",
          "state": {
            "_view_name": "StyleView",
            "_model_name": "ProgressStyleModel",
            "description_width": "initial",
            "_view_module": "@jupyter-widgets/base",
            "_model_module_version": "1.5.0",
            "_view_count": null,
            "_view_module_version": "1.2.0",
            "bar_color": null,
            "_model_module": "@jupyter-widgets/controls"
          }
        },
        "b78a4d80ff2b4532bf4ed5ea6e6a82a6": {
          "model_module": "@jupyter-widgets/base",
          "model_name": "LayoutModel",
          "state": {
            "_view_name": "LayoutView",
            "grid_template_rows": null,
            "right": null,
            "justify_content": null,
            "_view_module": "@jupyter-widgets/base",
            "overflow": null,
            "_model_module_version": "1.2.0",
            "_view_count": null,
            "flex_flow": null,
            "width": null,
            "min_width": null,
            "border": null,
            "align_items": null,
            "bottom": null,
            "_model_module": "@jupyter-widgets/base",
            "top": null,
            "grid_column": null,
            "overflow_y": null,
            "overflow_x": null,
            "grid_auto_flow": null,
            "grid_area": null,
            "grid_template_columns": null,
            "flex": null,
            "_model_name": "LayoutModel",
            "justify_items": null,
            "grid_row": null,
            "max_height": null,
            "align_content": null,
            "visibility": null,
            "align_self": null,
            "height": null,
            "min_height": null,
            "padding": null,
            "grid_auto_rows": null,
            "grid_gap": null,
            "max_width": null,
            "order": null,
            "_view_module_version": "1.2.0",
            "grid_template_areas": null,
            "object_position": null,
            "object_fit": null,
            "grid_auto_columns": null,
            "margin": null,
            "display": null,
            "left": null
          }
        },
        "58e4e798c8be43e6990ae8695535b1a0": {
          "model_module": "@jupyter-widgets/controls",
          "model_name": "DescriptionStyleModel",
          "state": {
            "_view_name": "StyleView",
            "_model_name": "DescriptionStyleModel",
            "description_width": "",
            "_view_module": "@jupyter-widgets/base",
            "_model_module_version": "1.5.0",
            "_view_count": null,
            "_view_module_version": "1.2.0",
            "_model_module": "@jupyter-widgets/controls"
          }
        },
        "d1b5436cf7584d70ae9e67210ce01cf4": {
          "model_module": "@jupyter-widgets/base",
          "model_name": "LayoutModel",
          "state": {
            "_view_name": "LayoutView",
            "grid_template_rows": null,
            "right": null,
            "justify_content": null,
            "_view_module": "@jupyter-widgets/base",
            "overflow": null,
            "_model_module_version": "1.2.0",
            "_view_count": null,
            "flex_flow": null,
            "width": null,
            "min_width": null,
            "border": null,
            "align_items": null,
            "bottom": null,
            "_model_module": "@jupyter-widgets/base",
            "top": null,
            "grid_column": null,
            "overflow_y": null,
            "overflow_x": null,
            "grid_auto_flow": null,
            "grid_area": null,
            "grid_template_columns": null,
            "flex": null,
            "_model_name": "LayoutModel",
            "justify_items": null,
            "grid_row": null,
            "max_height": null,
            "align_content": null,
            "visibility": null,
            "align_self": null,
            "height": null,
            "min_height": null,
            "padding": null,
            "grid_auto_rows": null,
            "grid_gap": null,
            "max_width": null,
            "order": null,
            "_view_module_version": "1.2.0",
            "grid_template_areas": null,
            "object_position": null,
            "object_fit": null,
            "grid_auto_columns": null,
            "margin": null,
            "display": null,
            "left": null
          }
        },
        "606232d863204c9fbde69bbf4690accc": {
          "model_module": "@jupyter-widgets/controls",
          "model_name": "HBoxModel",
          "state": {
            "_view_name": "HBoxView",
            "_dom_classes": [],
            "_model_name": "HBoxModel",
            "_view_module": "@jupyter-widgets/controls",
            "_model_module_version": "1.5.0",
            "_view_count": null,
            "_view_module_version": "1.5.0",
            "box_style": "",
            "layout": "IPY_MODEL_b7d1983f55a44b76a2e63b6c96b5c11c",
            "_model_module": "@jupyter-widgets/controls",
            "children": [
              "IPY_MODEL_cf810cb72a41400d85a5b4139153e6cb",
              "IPY_MODEL_83a68200c3ad44e89a2e055e6ccdfa96"
            ]
          }
        },
        "b7d1983f55a44b76a2e63b6c96b5c11c": {
          "model_module": "@jupyter-widgets/base",
          "model_name": "LayoutModel",
          "state": {
            "_view_name": "LayoutView",
            "grid_template_rows": null,
            "right": null,
            "justify_content": null,
            "_view_module": "@jupyter-widgets/base",
            "overflow": null,
            "_model_module_version": "1.2.0",
            "_view_count": null,
            "flex_flow": null,
            "width": null,
            "min_width": null,
            "border": null,
            "align_items": null,
            "bottom": null,
            "_model_module": "@jupyter-widgets/base",
            "top": null,
            "grid_column": null,
            "overflow_y": null,
            "overflow_x": null,
            "grid_auto_flow": null,
            "grid_area": null,
            "grid_template_columns": null,
            "flex": null,
            "_model_name": "LayoutModel",
            "justify_items": null,
            "grid_row": null,
            "max_height": null,
            "align_content": null,
            "visibility": null,
            "align_self": null,
            "height": null,
            "min_height": null,
            "padding": null,
            "grid_auto_rows": null,
            "grid_gap": null,
            "max_width": null,
            "order": null,
            "_view_module_version": "1.2.0",
            "grid_template_areas": null,
            "object_position": null,
            "object_fit": null,
            "grid_auto_columns": null,
            "margin": null,
            "display": null,
            "left": null
          }
        },
        "cf810cb72a41400d85a5b4139153e6cb": {
          "model_module": "@jupyter-widgets/controls",
          "model_name": "FloatProgressModel",
          "state": {
            "_view_name": "ProgressView",
            "style": "IPY_MODEL_577829d11e2944359c6207b58d2ada66",
            "_dom_classes": [],
            "description": "",
            "_model_name": "FloatProgressModel",
            "bar_style": "info",
            "max": 1,
            "_view_module": "@jupyter-widgets/controls",
            "_model_module_version": "1.5.0",
            "value": 1,
            "_view_count": null,
            "_view_module_version": "1.5.0",
            "orientation": "horizontal",
            "min": 0,
            "description_tooltip": null,
            "_model_module": "@jupyter-widgets/controls",
            "layout": "IPY_MODEL_1cbf8e925cdc4ec1aec2238e906317f7"
          }
        },
        "83a68200c3ad44e89a2e055e6ccdfa96": {
          "model_module": "@jupyter-widgets/controls",
          "model_name": "HTMLModel",
          "state": {
            "_view_name": "HTMLView",
            "style": "IPY_MODEL_36591da8837344079ccc998478574336",
            "_dom_classes": [],
            "description": "",
            "_model_name": "HTMLModel",
            "placeholder": "​",
            "_view_module": "@jupyter-widgets/controls",
            "_model_module_version": "1.5.0",
            "value": " 1654784/? [00:16&lt;00:00, 291316.25it/s]",
            "_view_count": null,
            "_view_module_version": "1.5.0",
            "description_tooltip": null,
            "_model_module": "@jupyter-widgets/controls",
            "layout": "IPY_MODEL_b5d4a8ca6c484f44b271e98e34f43d5f"
          }
        },
        "577829d11e2944359c6207b58d2ada66": {
          "model_module": "@jupyter-widgets/controls",
          "model_name": "ProgressStyleModel",
          "state": {
            "_view_name": "StyleView",
            "_model_name": "ProgressStyleModel",
            "description_width": "initial",
            "_view_module": "@jupyter-widgets/base",
            "_model_module_version": "1.5.0",
            "_view_count": null,
            "_view_module_version": "1.2.0",
            "bar_color": null,
            "_model_module": "@jupyter-widgets/controls"
          }
        },
        "1cbf8e925cdc4ec1aec2238e906317f7": {
          "model_module": "@jupyter-widgets/base",
          "model_name": "LayoutModel",
          "state": {
            "_view_name": "LayoutView",
            "grid_template_rows": null,
            "right": null,
            "justify_content": null,
            "_view_module": "@jupyter-widgets/base",
            "overflow": null,
            "_model_module_version": "1.2.0",
            "_view_count": null,
            "flex_flow": null,
            "width": null,
            "min_width": null,
            "border": null,
            "align_items": null,
            "bottom": null,
            "_model_module": "@jupyter-widgets/base",
            "top": null,
            "grid_column": null,
            "overflow_y": null,
            "overflow_x": null,
            "grid_auto_flow": null,
            "grid_area": null,
            "grid_template_columns": null,
            "flex": null,
            "_model_name": "LayoutModel",
            "justify_items": null,
            "grid_row": null,
            "max_height": null,
            "align_content": null,
            "visibility": null,
            "align_self": null,
            "height": null,
            "min_height": null,
            "padding": null,
            "grid_auto_rows": null,
            "grid_gap": null,
            "max_width": null,
            "order": null,
            "_view_module_version": "1.2.0",
            "grid_template_areas": null,
            "object_position": null,
            "object_fit": null,
            "grid_auto_columns": null,
            "margin": null,
            "display": null,
            "left": null
          }
        },
        "36591da8837344079ccc998478574336": {
          "model_module": "@jupyter-widgets/controls",
          "model_name": "DescriptionStyleModel",
          "state": {
            "_view_name": "StyleView",
            "_model_name": "DescriptionStyleModel",
            "description_width": "",
            "_view_module": "@jupyter-widgets/base",
            "_model_module_version": "1.5.0",
            "_view_count": null,
            "_view_module_version": "1.2.0",
            "_model_module": "@jupyter-widgets/controls"
          }
        },
        "b5d4a8ca6c484f44b271e98e34f43d5f": {
          "model_module": "@jupyter-widgets/base",
          "model_name": "LayoutModel",
          "state": {
            "_view_name": "LayoutView",
            "grid_template_rows": null,
            "right": null,
            "justify_content": null,
            "_view_module": "@jupyter-widgets/base",
            "overflow": null,
            "_model_module_version": "1.2.0",
            "_view_count": null,
            "flex_flow": null,
            "width": null,
            "min_width": null,
            "border": null,
            "align_items": null,
            "bottom": null,
            "_model_module": "@jupyter-widgets/base",
            "top": null,
            "grid_column": null,
            "overflow_y": null,
            "overflow_x": null,
            "grid_auto_flow": null,
            "grid_area": null,
            "grid_template_columns": null,
            "flex": null,
            "_model_name": "LayoutModel",
            "justify_items": null,
            "grid_row": null,
            "max_height": null,
            "align_content": null,
            "visibility": null,
            "align_self": null,
            "height": null,
            "min_height": null,
            "padding": null,
            "grid_auto_rows": null,
            "grid_gap": null,
            "max_width": null,
            "order": null,
            "_view_module_version": "1.2.0",
            "grid_template_areas": null,
            "object_position": null,
            "object_fit": null,
            "grid_auto_columns": null,
            "margin": null,
            "display": null,
            "left": null
          }
        },
        "3ef84076495544408389638124cc0814": {
          "model_module": "@jupyter-widgets/controls",
          "model_name": "HBoxModel",
          "state": {
            "_view_name": "HBoxView",
            "_dom_classes": [],
            "_model_name": "HBoxModel",
            "_view_module": "@jupyter-widgets/controls",
            "_model_module_version": "1.5.0",
            "_view_count": null,
            "_view_module_version": "1.5.0",
            "box_style": "",
            "layout": "IPY_MODEL_63244442e9834a16a53da46f5aa8846b",
            "_model_module": "@jupyter-widgets/controls",
            "children": [
              "IPY_MODEL_046cc153275645adad59f9d3895f2f54",
              "IPY_MODEL_162ccac8bbcb4c02882f5ed8fd4af91e"
            ]
          }
        },
        "63244442e9834a16a53da46f5aa8846b": {
          "model_module": "@jupyter-widgets/base",
          "model_name": "LayoutModel",
          "state": {
            "_view_name": "LayoutView",
            "grid_template_rows": null,
            "right": null,
            "justify_content": null,
            "_view_module": "@jupyter-widgets/base",
            "overflow": null,
            "_model_module_version": "1.2.0",
            "_view_count": null,
            "flex_flow": null,
            "width": null,
            "min_width": null,
            "border": null,
            "align_items": null,
            "bottom": null,
            "_model_module": "@jupyter-widgets/base",
            "top": null,
            "grid_column": null,
            "overflow_y": null,
            "overflow_x": null,
            "grid_auto_flow": null,
            "grid_area": null,
            "grid_template_columns": null,
            "flex": null,
            "_model_name": "LayoutModel",
            "justify_items": null,
            "grid_row": null,
            "max_height": null,
            "align_content": null,
            "visibility": null,
            "align_self": null,
            "height": null,
            "min_height": null,
            "padding": null,
            "grid_auto_rows": null,
            "grid_gap": null,
            "max_width": null,
            "order": null,
            "_view_module_version": "1.2.0",
            "grid_template_areas": null,
            "object_position": null,
            "object_fit": null,
            "grid_auto_columns": null,
            "margin": null,
            "display": null,
            "left": null
          }
        },
        "046cc153275645adad59f9d3895f2f54": {
          "model_module": "@jupyter-widgets/controls",
          "model_name": "FloatProgressModel",
          "state": {
            "_view_name": "ProgressView",
            "style": "IPY_MODEL_2e2ce1c16e754b729be5b0227afae2bc",
            "_dom_classes": [],
            "description": "",
            "_model_name": "FloatProgressModel",
            "bar_style": "success",
            "max": 1,
            "_view_module": "@jupyter-widgets/controls",
            "_model_module_version": "1.5.0",
            "value": 1,
            "_view_count": null,
            "_view_module_version": "1.5.0",
            "orientation": "horizontal",
            "min": 0,
            "description_tooltip": null,
            "_model_module": "@jupyter-widgets/controls",
            "layout": "IPY_MODEL_3e8de24cd7b14af1a7cb7111db2c2189"
          }
        },
        "162ccac8bbcb4c02882f5ed8fd4af91e": {
          "model_module": "@jupyter-widgets/controls",
          "model_name": "HTMLModel",
          "state": {
            "_view_name": "HTMLView",
            "style": "IPY_MODEL_ddcaebabc0464ec5b874f5f10b8eeb9e",
            "_dom_classes": [],
            "description": "",
            "_model_name": "HTMLModel",
            "placeholder": "​",
            "_view_module": "@jupyter-widgets/controls",
            "_model_module_version": "1.5.0",
            "value": " 8192/? [00:00&lt;00:00, 11382.25it/s]",
            "_view_count": null,
            "_view_module_version": "1.5.0",
            "description_tooltip": null,
            "_model_module": "@jupyter-widgets/controls",
            "layout": "IPY_MODEL_5433319e67c94dd99eff51009f1feca2"
          }
        },
        "2e2ce1c16e754b729be5b0227afae2bc": {
          "model_module": "@jupyter-widgets/controls",
          "model_name": "ProgressStyleModel",
          "state": {
            "_view_name": "StyleView",
            "_model_name": "ProgressStyleModel",
            "description_width": "initial",
            "_view_module": "@jupyter-widgets/base",
            "_model_module_version": "1.5.0",
            "_view_count": null,
            "_view_module_version": "1.2.0",
            "bar_color": null,
            "_model_module": "@jupyter-widgets/controls"
          }
        },
        "3e8de24cd7b14af1a7cb7111db2c2189": {
          "model_module": "@jupyter-widgets/base",
          "model_name": "LayoutModel",
          "state": {
            "_view_name": "LayoutView",
            "grid_template_rows": null,
            "right": null,
            "justify_content": null,
            "_view_module": "@jupyter-widgets/base",
            "overflow": null,
            "_model_module_version": "1.2.0",
            "_view_count": null,
            "flex_flow": null,
            "width": null,
            "min_width": null,
            "border": null,
            "align_items": null,
            "bottom": null,
            "_model_module": "@jupyter-widgets/base",
            "top": null,
            "grid_column": null,
            "overflow_y": null,
            "overflow_x": null,
            "grid_auto_flow": null,
            "grid_area": null,
            "grid_template_columns": null,
            "flex": null,
            "_model_name": "LayoutModel",
            "justify_items": null,
            "grid_row": null,
            "max_height": null,
            "align_content": null,
            "visibility": null,
            "align_self": null,
            "height": null,
            "min_height": null,
            "padding": null,
            "grid_auto_rows": null,
            "grid_gap": null,
            "max_width": null,
            "order": null,
            "_view_module_version": "1.2.0",
            "grid_template_areas": null,
            "object_position": null,
            "object_fit": null,
            "grid_auto_columns": null,
            "margin": null,
            "display": null,
            "left": null
          }
        },
        "ddcaebabc0464ec5b874f5f10b8eeb9e": {
          "model_module": "@jupyter-widgets/controls",
          "model_name": "DescriptionStyleModel",
          "state": {
            "_view_name": "StyleView",
            "_model_name": "DescriptionStyleModel",
            "description_width": "",
            "_view_module": "@jupyter-widgets/base",
            "_model_module_version": "1.5.0",
            "_view_count": null,
            "_view_module_version": "1.2.0",
            "_model_module": "@jupyter-widgets/controls"
          }
        },
        "5433319e67c94dd99eff51009f1feca2": {
          "model_module": "@jupyter-widgets/base",
          "model_name": "LayoutModel",
          "state": {
            "_view_name": "LayoutView",
            "grid_template_rows": null,
            "right": null,
            "justify_content": null,
            "_view_module": "@jupyter-widgets/base",
            "overflow": null,
            "_model_module_version": "1.2.0",
            "_view_count": null,
            "flex_flow": null,
            "width": null,
            "min_width": null,
            "border": null,
            "align_items": null,
            "bottom": null,
            "_model_module": "@jupyter-widgets/base",
            "top": null,
            "grid_column": null,
            "overflow_y": null,
            "overflow_x": null,
            "grid_auto_flow": null,
            "grid_area": null,
            "grid_template_columns": null,
            "flex": null,
            "_model_name": "LayoutModel",
            "justify_items": null,
            "grid_row": null,
            "max_height": null,
            "align_content": null,
            "visibility": null,
            "align_self": null,
            "height": null,
            "min_height": null,
            "padding": null,
            "grid_auto_rows": null,
            "grid_gap": null,
            "max_width": null,
            "order": null,
            "_view_module_version": "1.2.0",
            "grid_template_areas": null,
            "object_position": null,
            "object_fit": null,
            "grid_auto_columns": null,
            "margin": null,
            "display": null,
            "left": null
          }
        }
      }
    }
  },
  "cells": [
    {
      "cell_type": "markdown",
      "metadata": {
        "id": "view-in-github",
        "colab_type": "text"
      },
      "source": [
        "<a href=\"https://colab.research.google.com/github/EVA5-Stars/EVA5/blob/master/S6/EVA5_Submission_Session_6_in_progress.ipynb\" target=\"_parent\"><img src=\"https://colab.research.google.com/assets/colab-badge.svg\" alt=\"Open In Colab\"/></a>"
      ]
    },
    {
      "cell_type": "markdown",
      "metadata": {
        "id": "d0aHYYuPdlGa",
        "colab_type": "text"
      },
      "source": [
        "* Objective take best 5th code, and run below versions for 25 epochs and report findings:\n",
        "\n",
        ">> 1. with L1 + BN\n",
        "2. with L2 + BN\n",
        "3. with L1 and L2 with BN\n",
        "4. with GBN\n",
        "5. with L1 and L2 with GBN\n",
        "\n",
        "\n",
        "* *You need to write a single loop or iterator to iterate through these conditions.*\n",
        "\n",
        "* Draw ONE graph to show the validation accuracy curves for all 5 jobs above. This graph must have proper legends and it should be clear what we are looking at.\n",
        "\n",
        "* Draw ONE graph to show the loss change curves for all 5 jobs above. This graph must have proper legends and it should be clear what we are looking at.\n",
        "\n",
        "* Find any 25 misclassified images (combined into single image) for \"with GBN\" model. You should be using the saved model from the above jobs.  You MUST show the actual and predicted class names.\n",
        "\n",
        "Submitted By: \n",
        "* Gaurav Makkar\n",
        "* Mohit Bhandari\n",
        "* Suman Debnath\n",
        "* Sriram Iyengar\n",
        "\n",
        "\n"
      ]
    },
    {
      "cell_type": "markdown",
      "metadata": {
        "id": "KEgSJRHhdjdJ",
        "colab_type": "text"
      },
      "source": [
        "## Import `pytorch` libraries and modules:"
      ]
    },
    {
      "cell_type": "code",
      "metadata": {
        "id": "f0gQABsxc9vC",
        "colab_type": "code",
        "colab": {}
      },
      "source": [
        "from __future__ import print_function\n",
        "import torch\n",
        "#import nueral net model in the torch\n",
        "import torch.nn as nn\n",
        "import torch.nn.functional as F\n",
        "import torch.optim as optim\n",
        "#torchvision is the libraray in torch that has many features\n",
        "#and we are using datasets and transforms from this library \n",
        "from torchvision import datasets, transforms"
      ],
      "execution_count": 1,
      "outputs": []
    },
    {
      "cell_type": "code",
      "metadata": {
        "id": "13qcbwl1ZvKz",
        "colab_type": "code",
        "colab": {
          "base_uri": "https://localhost:8080/",
          "height": 136
        },
        "outputId": "810bb75b-7b6f-4df2-a6b9-eb5fde7faaff"
      },
      "source": [
        "!rm -rf EVA5\n",
        "!git clone https://github.com/EVA5-Stars/EVA5.git"
      ],
      "execution_count": 2,
      "outputs": [
        {
          "output_type": "stream",
          "text": [
            "Cloning into 'EVA5'...\n",
            "remote: Enumerating objects: 157, done.\u001b[K\n",
            "remote: Counting objects: 100% (157/157), done.\u001b[K\n",
            "remote: Compressing objects: 100% (110/110), done.\u001b[K\n",
            "remote: Total 157 (delta 89), reused 91 (delta 43), pack-reused 0\u001b[K\n",
            "Receiving objects: 100% (157/157), 620.15 KiB | 888.00 KiB/s, done.\n",
            "Resolving deltas: 100% (89/89), done.\n"
          ],
          "name": "stdout"
        }
      ]
    },
    {
      "cell_type": "code",
      "metadata": {
        "id": "E0KZnc579qxQ",
        "colab_type": "code",
        "colab": {}
      },
      "source": [
        "%matplotlib inline\n",
        "import matplotlib.pyplot as plt"
      ],
      "execution_count": 3,
      "outputs": []
    },
    {
      "cell_type": "code",
      "metadata": {
        "id": "kWTNd6P_svjy",
        "colab_type": "code",
        "colab": {
          "base_uri": "https://localhost:8080/",
          "height": 119
        },
        "outputId": "1c76edcd-493e-42a3-8a6e-6ffba3e99a58"
      },
      "source": [
        "from google.colab import drive\n",
        "drive.mount('/content/gdrive')\n",
        "\n",
        "!ls /content/gdrive/My\\ Drive/Colab\\ Notebooks/EVA5/S6"
      ],
      "execution_count": 4,
      "outputs": [
        {
          "output_type": "stream",
          "text": [
            "Mounted at /content/gdrive\n",
            "EVA5_Submission_Session_6_inprogress.ipynb\n",
            "EVA5:Submission-Session_6_Model-BatchNormalization.pt\n",
            "EVA5:Submission-Session_6_Model-GhostBatchNormalization.pt\n",
            "L1EVA5:Submission-Session_6_Model-BatchNormalization.pt\n",
            "L1EVA5:Submission-Session_6_Model-GhostBatchNormalization.pt\n"
          ],
          "name": "stdout"
        }
      ]
    },
    {
      "cell_type": "code",
      "metadata": {
        "id": "_WmDblPl9ynq",
        "colab_type": "code",
        "colab": {
          "base_uri": "https://localhost:8080/",
          "height": 34
        },
        "outputId": "04b4fed6-03c8-4010-d6c2-00b4db9163f9"
      },
      "source": [
        "!pip install torchsummary\n",
        "from torchsummary import summary\n",
        "use_cuda = torch.cuda.is_available()\n",
        "device = torch.device(\"cuda\" if use_cuda else \"cpu\")"
      ],
      "execution_count": 5,
      "outputs": [
        {
          "output_type": "stream",
          "text": [
            "Requirement already satisfied: torchsummary in /usr/local/lib/python3.6/dist-packages (1.5.1)\n"
          ],
          "name": "stdout"
        }
      ]
    },
    {
      "cell_type": "markdown",
      "metadata": {
        "id": "mwNFJKT-jid_",
        "colab_type": "text"
      },
      "source": [
        "## Project Library:\n",
        "\n",
        "*   Ghost Batch Normalization\n",
        "*   Misclassified image collection\n",
        "*   Load the testing and training data with configurabe *batch_size*\n",
        "*   Plot the Loss and Accuracy Graph\n",
        "*   Define the structure of the network\n",
        "*   Setup to create model and summary\n",
        "*   Load the testing and training data with configurabe *batch_size*\n",
        "*   Define test and train functions\n",
        "*   Create a function to *initiate_training* for all conditions\n",
        "\n",
        "\n",
        "\n"
      ]
    },
    {
      "cell_type": "markdown",
      "metadata": {
        "id": "NjA0H9MvxK5_",
        "colab_type": "text"
      },
      "source": [
        "**Ghost Batch Normalization**: \n",
        "\n",
        "A technique originally developed for training with very large batch sizes across many accelerators. "
      ]
    },
    {
      "cell_type": "code",
      "metadata": {
        "id": "b1_ZAeo3xL3M",
        "colab_type": "code",
        "colab": {}
      },
      "source": [
        "#from EVA5.S6.BatchNorm_GhostBatchNorm import GhostBatchNorm\n",
        "#from EVA5.S6.BatchNorm_GhostBatchNorm import BatchNorm"
      ],
      "execution_count": 6,
      "outputs": []
    },
    {
      "cell_type": "markdown",
      "metadata": {
        "id": "-a6UwbhpkJ1y",
        "colab_type": "text"
      },
      "source": [
        "**Collecting Misclassified Images**"
      ]
    },
    {
      "cell_type": "code",
      "metadata": {
        "id": "_egQ6FDKkP2u",
        "colab_type": "code",
        "colab": {}
      },
      "source": [
        "#from S6.S6_plot_misclassfied_image_finder import misclassified_image_finder              \n",
        "def misclassified_image_finder(model, model_path, device, train_loader, image_num, msg):\n",
        "    \n",
        "    data_iter = iter(test_loader)\n",
        "    figure = plt.figure()\n",
        "\n",
        "    plt.title('Misclassified Images: With {}'.format(msg))\n",
        "   \n",
        "    for _i in range(image_num):\n",
        "          data, target = data_iter.next()\n",
        "\n",
        "          model.load_state_dict(torch.load(model_path)) \n",
        "          model.eval()\n",
        "\n",
        "          data, target = data.to(device), target.to(device)\n",
        "\n",
        "          output = model(data)\n",
        "          pred = output.argmax(dim=1, keepdim=True) \n",
        "          leng=len(pred)\n",
        "          for a in range(leng):\n",
        "              if(pred[a]!=target[a]):                  \n",
        "                  plt.subplot(5,5,_i+1)\n",
        "                  plt.axis('off')\n",
        "                  plt.imshow(data[a].cpu().numpy().squeeze(),cmap='gray_r')\n",
        "                  "
      ],
      "execution_count": 7,
      "outputs": []
    },
    {
      "cell_type": "markdown",
      "metadata": {
        "id": "l1_4BwyZX-Oh",
        "colab_type": "text"
      },
      "source": [
        "Plot the Loss and Accuracy Graph"
      ]
    },
    {
      "cell_type": "code",
      "metadata": {
        "id": "W4s4oGPvX_KM",
        "colab_type": "code",
        "colab": {}
      },
      "source": [
        "from EVA5.S6.S6_plot_stat_loss_acc import plot_stat"
      ],
      "execution_count": 8,
      "outputs": []
    },
    {
      "cell_type": "markdown",
      "metadata": {
        "id": "5IV_0psCd_er",
        "colab_type": "text"
      },
      "source": [
        "Define the structure of the network"
      ]
    },
    {
      "cell_type": "code",
      "metadata": {
        "id": "WQKJsA3yd_Bm",
        "colab_type": "code",
        "colab": {}
      },
      "source": [
        "from EVA5.S6.S6_Model_structure_create import Net"
      ],
      "execution_count": 9,
      "outputs": []
    },
    {
      "cell_type": "markdown",
      "metadata": {
        "id": "OZnYvmv4i3kV",
        "colab_type": "text"
      },
      "source": [
        "Setup to create model and summary"
      ]
    },
    {
      "cell_type": "code",
      "metadata": {
        "id": "0zBZmMhvi4Zx",
        "colab_type": "code",
        "colab": {}
      },
      "source": [
        "from EVA5.S6.S6_Model_structure_create import create_model"
      ],
      "execution_count": 10,
      "outputs": []
    },
    {
      "cell_type": "markdown",
      "metadata": {
        "id": "LnrI4dHLuXn2",
        "colab_type": "text"
      },
      "source": [
        "Load the testing and training data with configurabe *batch_size*"
      ]
    },
    {
      "cell_type": "code",
      "metadata": {
        "id": "v6RAQyGbmF5R",
        "colab_type": "code",
        "colab": {}
      },
      "source": [
        "from EVA5.S6.S6_data_loader import init_train_test_loader"
      ],
      "execution_count": 11,
      "outputs": []
    },
    {
      "cell_type": "markdown",
      "metadata": {
        "id": "hxB3rvKfx62p",
        "colab_type": "text"
      },
      "source": [
        "Define test and train functions"
      ]
    },
    {
      "cell_type": "code",
      "metadata": {
        "id": "UqfCXNm5x9l1",
        "colab_type": "code",
        "colab": {}
      },
      "source": [
        "from EVA5.S6.S6_train_test_function import train\n",
        "from EVA5.S6.S6_train_test_function import test   \n"
      ],
      "execution_count": 12,
      "outputs": []
    },
    {
      "cell_type": "markdown",
      "metadata": {
        "id": "LisKLRn-OSaO",
        "colab_type": "text"
      },
      "source": [
        "Create a function to *initiate_training* for all conditions"
      ]
    },
    {
      "cell_type": "code",
      "metadata": {
        "id": "QgDmlexZOTZy",
        "colab_type": "code",
        "colab": {
          "base_uri": "https://localhost:8080/",
          "height": 420,
          "referenced_widgets": [
            "3750a02061be4d97b19fc60277b83b66",
            "9473c96813e545119855295aa31e6a44",
            "9a223528faa949c5ab0e6650df3fc7bb",
            "a409a65792b145d8896e91369a441e3f",
            "17179bf1b57d41e5bfa1da815978c77c",
            "284a46628aac4a94b6bfaf28855d755a",
            "910fb54be4a744f1b23369c785c0fb29",
            "5fb88327cb234c7fa593861a495995e0",
            "3e4e5385337f401c87fc24b8a7eb88d7",
            "c3dca08b377c4aa38b96148125187e45",
            "7387c8640b9c457f81fe0f81bde61ddc",
            "bc4abb63b2b84bf19a16786a2ed95f83",
            "b2a27b93fbc640f08eae26afede4efad",
            "b78a4d80ff2b4532bf4ed5ea6e6a82a6",
            "58e4e798c8be43e6990ae8695535b1a0",
            "d1b5436cf7584d70ae9e67210ce01cf4",
            "606232d863204c9fbde69bbf4690accc",
            "b7d1983f55a44b76a2e63b6c96b5c11c",
            "cf810cb72a41400d85a5b4139153e6cb",
            "83a68200c3ad44e89a2e055e6ccdfa96",
            "577829d11e2944359c6207b58d2ada66",
            "1cbf8e925cdc4ec1aec2238e906317f7",
            "36591da8837344079ccc998478574336",
            "b5d4a8ca6c484f44b271e98e34f43d5f",
            "3ef84076495544408389638124cc0814",
            "63244442e9834a16a53da46f5aa8846b",
            "046cc153275645adad59f9d3895f2f54",
            "162ccac8bbcb4c02882f5ed8fd4af91e",
            "2e2ce1c16e754b729be5b0227afae2bc",
            "3e8de24cd7b14af1a7cb7111db2c2189",
            "ddcaebabc0464ec5b874f5f10b8eeb9e",
            "5433319e67c94dd99eff51009f1feca2"
          ]
        },
        "outputId": "456595a6-1f9b-492d-89b6-b8440490c32e"
      },
      "source": [
        "from torch.optim.lr_scheduler import StepLR\n",
        "from EVA5.S6.S6_init_training import init_training   "
      ],
      "execution_count": 13,
      "outputs": [
        {
          "output_type": "stream",
          "text": [
            "\n",
            " Initialize train and test loader with Batch Size:128\n",
            "Downloading http://yann.lecun.com/exdb/mnist/train-images-idx3-ubyte.gz to ../data/MNIST/raw/train-images-idx3-ubyte.gz\n"
          ],
          "name": "stdout"
        },
        {
          "output_type": "display_data",
          "data": {
            "application/vnd.jupyter.widget-view+json": {
              "model_id": "3750a02061be4d97b19fc60277b83b66",
              "version_minor": 0,
              "version_major": 2
            },
            "text/plain": [
              "HBox(children=(FloatProgress(value=1.0, bar_style='info', max=1.0), HTML(value='')))"
            ]
          },
          "metadata": {
            "tags": []
          }
        },
        {
          "output_type": "stream",
          "text": [
            "Extracting ../data/MNIST/raw/train-images-idx3-ubyte.gz to ../data/MNIST/raw\n",
            "Downloading http://yann.lecun.com/exdb/mnist/train-labels-idx1-ubyte.gz to ../data/MNIST/raw/train-labels-idx1-ubyte.gz\n"
          ],
          "name": "stdout"
        },
        {
          "output_type": "display_data",
          "data": {
            "application/vnd.jupyter.widget-view+json": {
              "model_id": "3e4e5385337f401c87fc24b8a7eb88d7",
              "version_minor": 0,
              "version_major": 2
            },
            "text/plain": [
              "HBox(children=(FloatProgress(value=1.0, bar_style='info', max=1.0), HTML(value='')))"
            ]
          },
          "metadata": {
            "tags": []
          }
        },
        {
          "output_type": "stream",
          "text": [
            "Extracting ../data/MNIST/raw/train-labels-idx1-ubyte.gz to ../data/MNIST/raw\n",
            "Downloading http://yann.lecun.com/exdb/mnist/t10k-images-idx3-ubyte.gz to ../data/MNIST/raw/t10k-images-idx3-ubyte.gz\n",
            "\n"
          ],
          "name": "stdout"
        },
        {
          "output_type": "display_data",
          "data": {
            "application/vnd.jupyter.widget-view+json": {
              "model_id": "606232d863204c9fbde69bbf4690accc",
              "version_minor": 0,
              "version_major": 2
            },
            "text/plain": [
              "HBox(children=(FloatProgress(value=1.0, bar_style='info', max=1.0), HTML(value='')))"
            ]
          },
          "metadata": {
            "tags": []
          }
        },
        {
          "output_type": "stream",
          "text": [
            "Extracting ../data/MNIST/raw/t10k-images-idx3-ubyte.gz to ../data/MNIST/raw\n",
            "Downloading http://yann.lecun.com/exdb/mnist/t10k-labels-idx1-ubyte.gz to ../data/MNIST/raw/t10k-labels-idx1-ubyte.gz\n"
          ],
          "name": "stdout"
        },
        {
          "output_type": "display_data",
          "data": {
            "application/vnd.jupyter.widget-view+json": {
              "model_id": "3ef84076495544408389638124cc0814",
              "version_minor": 0,
              "version_major": 2
            },
            "text/plain": [
              "HBox(children=(FloatProgress(value=1.0, bar_style='info', max=1.0), HTML(value='')))"
            ]
          },
          "metadata": {
            "tags": []
          }
        },
        {
          "output_type": "stream",
          "text": [
            "Extracting ../data/MNIST/raw/t10k-labels-idx1-ubyte.gz to ../data/MNIST/raw\n",
            "Processing...\n",
            "Done!\n"
          ],
          "name": "stdout"
        },
        {
          "output_type": "stream",
          "text": [
            "/usr/local/lib/python3.6/dist-packages/torchvision/datasets/mnist.py:469: UserWarning: The given NumPy array is not writeable, and PyTorch does not support non-writeable tensors. This means you can write to the underlying (supposedly non-writeable) NumPy array using the tensor. You may want to copy the array to protect its data or make it writeable before converting it to a tensor. This type of warning will be suppressed for the rest of this program. (Triggered internally at  /pytorch/torch/csrc/utils/tensor_numpy.cpp:141.)\n",
            "  return torch.from_numpy(parsed.astype(m[2], copy=False)).view(*s)\n"
          ],
          "name": "stderr"
        }
      ]
    },
    {
      "cell_type": "markdown",
      "metadata": {
        "id": "fkAa1D3csHO2",
        "colab_type": "text"
      },
      "source": [
        "## Run: Initialization and trainings"
      ]
    },
    {
      "cell_type": "markdown",
      "metadata": {
        "id": "Sc39elzDeJHj",
        "colab_type": "text"
      },
      "source": [
        "Create the model with normal BatchNormalization"
      ]
    },
    {
      "cell_type": "code",
      "metadata": {
        "id": "fzffz2YOd9oi",
        "colab_type": "code",
        "colab": {
          "base_uri": "https://localhost:8080/",
          "height": 629
        },
        "outputId": "849009a8-4fed-4f8b-b60a-35d3331fca86"
      },
      "source": [
        "model = create_model(device,gbatnor=False)\n",
        "# Set the Epoch\n",
        "EPOCHS = 25\n",
        "model_name_bn = \"EVA5:Submission-Session_6_Model-BatchNormalization.pt\"\n",
        "save_path_bn = F\"/content/gdrive/My Drive/Colab Notebooks/EVA5/S6/{model_name_bn}\"\n",
        "torch.save(model.state_dict(), save_path_bn)\n",
        "print(\"Model Saved: {}\".format(model_name_bn))"
      ],
      "execution_count": 14,
      "outputs": [
        {
          "output_type": "stream",
          "text": [
            "Create the instance of the Net class with GBN = False\n",
            "\n",
            "----------------------------------------------------------------\n",
            "        Layer (type)               Output Shape         Param #\n",
            "================================================================\n",
            "            Conv2d-1            [-1, 8, 26, 26]              72\n",
            "              ReLU-2            [-1, 8, 26, 26]               0\n",
            "       BatchNorm2d-3            [-1, 8, 26, 26]              16\n",
            "            Conv2d-4           [-1, 16, 24, 24]           1,152\n",
            "              ReLU-5           [-1, 16, 24, 24]               0\n",
            "       BatchNorm2d-6           [-1, 16, 24, 24]              32\n",
            "         MaxPool2d-7           [-1, 16, 12, 12]               0\n",
            "            Conv2d-8            [-1, 8, 12, 12]             128\n",
            "              ReLU-9            [-1, 8, 12, 12]               0\n",
            "      BatchNorm2d-10            [-1, 8, 12, 12]              16\n",
            "           Conv2d-11           [-1, 16, 10, 10]           1,152\n",
            "             ReLU-12           [-1, 16, 10, 10]               0\n",
            "      BatchNorm2d-13           [-1, 16, 10, 10]              32\n",
            "           Conv2d-14             [-1, 32, 8, 8]           4,608\n",
            "             ReLU-15             [-1, 32, 8, 8]               0\n",
            "      BatchNorm2d-16             [-1, 32, 8, 8]              64\n",
            "           Conv2d-17             [-1, 10, 8, 8]             320\n",
            "             ReLU-18             [-1, 10, 8, 8]               0\n",
            "      BatchNorm2d-19             [-1, 10, 8, 8]              20\n",
            "        AvgPool2d-20             [-1, 10, 1, 1]               0\n",
            "================================================================\n",
            "Total params: 7,612\n",
            "Trainable params: 7,612\n",
            "Non-trainable params: 0\n",
            "----------------------------------------------------------------\n",
            "Input size (MB): 0.00\n",
            "Forward/backward pass size (MB): 0.48\n",
            "Params size (MB): 0.03\n",
            "Estimated Total Size (MB): 0.51\n",
            "----------------------------------------------------------------\n",
            "Model Saved: EVA5:Submission-Session_6_Model-BatchNormalization.pt\n"
          ],
          "name": "stdout"
        }
      ]
    },
    {
      "cell_type": "markdown",
      "metadata": {
        "id": "B4WXB_n6gS_z",
        "colab_type": "text"
      },
      "source": [
        "Create the model with Ghost BatchNormalization"
      ]
    },
    {
      "cell_type": "code",
      "metadata": {
        "id": "lRJNyPCkgFVN",
        "colab_type": "code",
        "colab": {
          "base_uri": "https://localhost:8080/",
          "height": 612
        },
        "outputId": "d9a98221-15c3-4d3f-d95d-4ad1619cf6c3"
      },
      "source": [
        "model1 = create_model(device, gbatnor=True)\n",
        "model_name_gbn = \"EVA5:Submission-Session_6_Model-GhostBatchNormalization.pt\"\n",
        "save_path_gbn = F\"/content/gdrive/My Drive/Colab Notebooks/EVA5/S6/{model_name_gbn}\"\n",
        "torch.save(model1.state_dict(), save_path_gbn)\n",
        "print(\"Model Saved: {}\".format(model_name_gbn))"
      ],
      "execution_count": 15,
      "outputs": [
        {
          "output_type": "stream",
          "text": [
            "Create the instance of the Net class with GBN = True\n",
            "----------------------------------------------------------------\n",
            "        Layer (type)               Output Shape         Param #\n",
            "================================================================\n",
            "            Conv2d-1            [-1, 8, 26, 26]              72\n",
            "              ReLU-2            [-1, 8, 26, 26]               0\n",
            "    GhostBatchNorm-3            [-1, 8, 26, 26]              16\n",
            "            Conv2d-4           [-1, 16, 24, 24]           1,152\n",
            "              ReLU-5           [-1, 16, 24, 24]               0\n",
            "    GhostBatchNorm-6           [-1, 16, 24, 24]              32\n",
            "         MaxPool2d-7           [-1, 16, 12, 12]               0\n",
            "            Conv2d-8            [-1, 8, 12, 12]             128\n",
            "              ReLU-9            [-1, 8, 12, 12]               0\n",
            "   GhostBatchNorm-10            [-1, 8, 12, 12]              16\n",
            "           Conv2d-11           [-1, 16, 10, 10]           1,152\n",
            "             ReLU-12           [-1, 16, 10, 10]               0\n",
            "   GhostBatchNorm-13           [-1, 16, 10, 10]              32\n",
            "           Conv2d-14             [-1, 32, 8, 8]           4,608\n",
            "             ReLU-15             [-1, 32, 8, 8]               0\n",
            "   GhostBatchNorm-16             [-1, 32, 8, 8]              64\n",
            "           Conv2d-17             [-1, 10, 8, 8]             320\n",
            "             ReLU-18             [-1, 10, 8, 8]               0\n",
            "   GhostBatchNorm-19             [-1, 10, 8, 8]              20\n",
            "        AvgPool2d-20             [-1, 10, 1, 1]               0\n",
            "================================================================\n",
            "Total params: 7,612\n",
            "Trainable params: 7,612\n",
            "Non-trainable params: 0\n",
            "----------------------------------------------------------------\n",
            "Input size (MB): 0.00\n",
            "Forward/backward pass size (MB): 0.48\n",
            "Params size (MB): 0.03\n",
            "Estimated Total Size (MB): 0.51\n",
            "----------------------------------------------------------------\n",
            "Model Saved: EVA5:Submission-Session_6_Model-GhostBatchNormalization.pt\n"
          ],
          "name": "stdout"
        }
      ]
    },
    {
      "cell_type": "markdown",
      "metadata": {
        "id": "lei6fCbPtV1J",
        "colab_type": "text"
      },
      "source": [
        "1. Cases\n"
      ]
    },
    {
      "cell_type": "code",
      "metadata": {
        "id": "j-wKbBqWsH69",
        "colab_type": "code",
        "colab": {
          "base_uri": "https://localhost:8080/",
          "height": 1000
        },
        "outputId": "1901aa35-22c6-4d08-c066-4dfb644d56ed"
      },
      "source": [
        "# Total Loss & Accuracy\n",
        "total_train_losses = []\n",
        "total_train_accuracies = []\n",
        "\n",
        "total_test_losses = []\n",
        "total_test_accuracies = []\n",
        "#####\n",
        "train_loader, test_loader = init_train_test_loader()\n",
        "# with L1 and BN\n",
        "Case1=[\"L1 and BN\",model, device, train_loader, EPOCHS, False, 1e-5, False]\n",
        "# with L2 and BN\n",
        "Case2=[\"L2 and BN\",model, device, train_loader, EPOCHS,False, None, True]\n",
        "# with L1, L2 and BN\n",
        "Case3=[\"L1, L2 and BN\",model, device, train_loader, EPOCHS,  True, 1e-5,True]\n",
        "# with GBN\n",
        "Case4=[\"GBN\",model1, device, train_loader, EPOCHS, False, 1e-5,False]\n",
        "# with L1, L2 and GBN\n",
        "Case5=[\"L1, L2 and GBN\",model1, device, train_loader, EPOCHS, True, 1e-5, True]\n",
        "\n",
        "Cases=[Case1,Case2,Case3,Case4,Case5]\n",
        "for case in Cases:\n",
        "  # Loss train & test\n",
        "  train_losses = []\n",
        "  test_losses = []  \n",
        "  # Accuracy train & test\n",
        "  train_acc = []\n",
        "  test_acc = []\n",
        "  case_name,model, device, train_loader, epochs, step_lr, l1_lambda, l2_en=case\n",
        "  print(\" Below output is for Case\",case_name)\n",
        "  #print(*case)\n",
        "  init_training(model, device, train_loader, epochs,train_losses,train_acc,test_losses,test_acc, step_lr=step_lr, l1_lambda=l1_lambda, l2_en=l2_en)\n",
        "  total_train_losses.extend([train_losses])\n",
        "  total_train_accuracies.extend([train_acc])\n",
        "  total_test_losses.extend([test_losses])\n",
        "  total_test_accuracies.extend([test_acc])\n",
        "  print(total_test_losses)\n",
        "  print(total_test_accuracies)"
      ],
      "execution_count": null,
      "outputs": [
        {
          "output_type": "stream",
          "text": [
            "Loss=2.351052761077881 Batch_id=0 Accuracy=8.59:   0%|          | 1/469 [00:00<01:16,  6.13it/s]"
          ],
          "name": "stderr"
        },
        {
          "output_type": "stream",
          "text": [
            "\n",
            " Initialize train and test loader with Batch Size:128\n",
            " Below output is for Case L1 and BN\n"
          ],
          "name": "stdout"
        },
        {
          "output_type": "stream",
          "text": [
            "Loss=0.23027123510837555 Batch_id=468 Accuracy=86.80: 100%|██████████| 469/469 [00:55<00:00,  8.48it/s]\n"
          ],
          "name": "stderr"
        },
        {
          "output_type": "stream",
          "text": [
            "\n",
            " Epoch 0, lr 0.01\n"
          ],
          "name": "stdout"
        },
        {
          "output_type": "stream",
          "text": [
            "Loss=0.27114158868789673 Batch_id=0 Accuracy=96.09:   0%|          | 1/469 [00:00<00:56,  8.28it/s]"
          ],
          "name": "stderr"
        },
        {
          "output_type": "stream",
          "text": [
            "\n",
            "Test set: Average loss: 0.2329, Accuracy: 9655/10000 (96.55%)\n",
            "\n"
          ],
          "name": "stdout"
        },
        {
          "output_type": "stream",
          "text": [
            "Loss=0.24084778130054474 Batch_id=468 Accuracy=96.63: 100%|██████████| 469/469 [00:54<00:00,  8.54it/s]\n"
          ],
          "name": "stderr"
        },
        {
          "output_type": "stream",
          "text": [
            "\n",
            " Epoch 1, lr 0.01\n"
          ],
          "name": "stdout"
        },
        {
          "output_type": "stream",
          "text": [
            "Loss=0.13123252987861633 Batch_id=0 Accuracy=98.44:   0%|          | 1/469 [00:00<00:53,  8.68it/s]"
          ],
          "name": "stderr"
        },
        {
          "output_type": "stream",
          "text": [
            "\n",
            "Test set: Average loss: 0.1260, Accuracy: 9743/10000 (97.43%)\n",
            "\n"
          ],
          "name": "stdout"
        },
        {
          "output_type": "stream",
          "text": [
            "Loss=0.14170759916305542 Batch_id=468 Accuracy=97.46: 100%|██████████| 469/469 [00:55<00:00,  8.51it/s]\n"
          ],
          "name": "stderr"
        },
        {
          "output_type": "stream",
          "text": [
            "\n",
            " Epoch 2, lr 0.01\n"
          ],
          "name": "stdout"
        },
        {
          "output_type": "stream",
          "text": [
            "Loss=0.1604025959968567 Batch_id=0 Accuracy=96.09:   0%|          | 1/469 [00:00<00:55,  8.42it/s]"
          ],
          "name": "stderr"
        },
        {
          "output_type": "stream",
          "text": [
            "\n",
            "Test set: Average loss: 0.0943, Accuracy: 9806/10000 (98.06%)\n",
            "\n"
          ],
          "name": "stdout"
        },
        {
          "output_type": "stream",
          "text": [
            "Loss=0.09604119509458542 Batch_id=468 Accuracy=97.72: 100%|██████████| 469/469 [00:54<00:00,  8.55it/s]\n"
          ],
          "name": "stderr"
        },
        {
          "output_type": "stream",
          "text": [
            "\n",
            " Epoch 3, lr 0.01\n"
          ],
          "name": "stdout"
        },
        {
          "output_type": "stream",
          "text": [
            "Loss=0.06593607366085052 Batch_id=0 Accuracy=100.00:   0%|          | 1/469 [00:00<01:00,  7.68it/s]"
          ],
          "name": "stderr"
        },
        {
          "output_type": "stream",
          "text": [
            "\n",
            "Test set: Average loss: 0.0680, Accuracy: 9869/10000 (98.69%)\n",
            "\n"
          ],
          "name": "stdout"
        },
        {
          "output_type": "stream",
          "text": [
            "Loss=0.060051701962947845 Batch_id=468 Accuracy=97.99: 100%|██████████| 469/469 [00:54<00:00,  8.53it/s]\n"
          ],
          "name": "stderr"
        },
        {
          "output_type": "stream",
          "text": [
            "\n",
            " Epoch 4, lr 0.01\n"
          ],
          "name": "stdout"
        },
        {
          "output_type": "stream",
          "text": [
            "Loss=0.09984823316335678 Batch_id=0 Accuracy=97.66:   0%|          | 1/469 [00:00<00:53,  8.79it/s]"
          ],
          "name": "stderr"
        },
        {
          "output_type": "stream",
          "text": [
            "\n",
            "Test set: Average loss: 0.0631, Accuracy: 9869/10000 (98.69%)\n",
            "\n"
          ],
          "name": "stdout"
        },
        {
          "output_type": "stream",
          "text": [
            "Loss=0.14010289311408997 Batch_id=468 Accuracy=98.12: 100%|██████████| 469/469 [00:54<00:00,  8.55it/s]\n"
          ],
          "name": "stderr"
        },
        {
          "output_type": "stream",
          "text": [
            "\n",
            " Epoch 5, lr 0.01\n"
          ],
          "name": "stdout"
        },
        {
          "output_type": "stream",
          "text": [
            "Loss=0.08990460634231567 Batch_id=0 Accuracy=98.44:   0%|          | 1/469 [00:00<00:53,  8.70it/s]"
          ],
          "name": "stderr"
        },
        {
          "output_type": "stream",
          "text": [
            "\n",
            "Test set: Average loss: 0.0516, Accuracy: 9881/10000 (98.81%)\n",
            "\n"
          ],
          "name": "stdout"
        },
        {
          "output_type": "stream",
          "text": [
            "Loss=0.07136587798595428 Batch_id=468 Accuracy=98.29: 100%|██████████| 469/469 [00:54<00:00,  8.55it/s]\n"
          ],
          "name": "stderr"
        },
        {
          "output_type": "stream",
          "text": [
            "\n",
            " Epoch 6, lr 0.01\n"
          ],
          "name": "stdout"
        },
        {
          "output_type": "stream",
          "text": [
            "Loss=0.08571170270442963 Batch_id=0 Accuracy=98.44:   0%|          | 1/469 [00:00<00:55,  8.48it/s]"
          ],
          "name": "stderr"
        },
        {
          "output_type": "stream",
          "text": [
            "\n",
            "Test set: Average loss: 0.0485, Accuracy: 9884/10000 (98.84%)\n",
            "\n"
          ],
          "name": "stdout"
        },
        {
          "output_type": "stream",
          "text": [
            "Loss=0.060759492218494415 Batch_id=468 Accuracy=98.38: 100%|██████████| 469/469 [00:54<00:00,  8.55it/s]\n"
          ],
          "name": "stderr"
        },
        {
          "output_type": "stream",
          "text": [
            "\n",
            " Epoch 7, lr 0.01\n"
          ],
          "name": "stdout"
        },
        {
          "output_type": "stream",
          "text": [
            "Loss=0.07581890374422073 Batch_id=0 Accuracy=98.44:   0%|          | 1/469 [00:00<01:04,  7.28it/s]"
          ],
          "name": "stderr"
        },
        {
          "output_type": "stream",
          "text": [
            "\n",
            "Test set: Average loss: 0.0477, Accuracy: 9879/10000 (98.79%)\n",
            "\n"
          ],
          "name": "stdout"
        },
        {
          "output_type": "stream",
          "text": [
            "Loss=0.05851052328944206 Batch_id=468 Accuracy=98.41: 100%|██████████| 469/469 [00:54<00:00,  8.54it/s]\n"
          ],
          "name": "stderr"
        },
        {
          "output_type": "stream",
          "text": [
            "\n",
            " Epoch 8, lr 0.01\n"
          ],
          "name": "stdout"
        },
        {
          "output_type": "stream",
          "text": [
            "Loss=0.041724156588315964 Batch_id=0 Accuracy=100.00:   0%|          | 1/469 [00:00<00:54,  8.63it/s]"
          ],
          "name": "stderr"
        },
        {
          "output_type": "stream",
          "text": [
            "\n",
            "Test set: Average loss: 0.0457, Accuracy: 9889/10000 (98.89%)\n",
            "\n"
          ],
          "name": "stdout"
        },
        {
          "output_type": "stream",
          "text": [
            "Loss=0.06356308609247208 Batch_id=468 Accuracy=98.50: 100%|██████████| 469/469 [00:54<00:00,  8.54it/s]\n"
          ],
          "name": "stderr"
        },
        {
          "output_type": "stream",
          "text": [
            "\n",
            " Epoch 9, lr 0.01\n"
          ],
          "name": "stdout"
        },
        {
          "output_type": "stream",
          "text": [
            "Loss=0.09158387035131454 Batch_id=0 Accuracy=98.44:   0%|          | 1/469 [00:00<00:54,  8.60it/s]"
          ],
          "name": "stderr"
        },
        {
          "output_type": "stream",
          "text": [
            "\n",
            "Test set: Average loss: 0.0497, Accuracy: 9873/10000 (98.73%)\n",
            "\n"
          ],
          "name": "stdout"
        },
        {
          "output_type": "stream",
          "text": [
            "Loss=0.06593872606754303 Batch_id=468 Accuracy=98.59: 100%|██████████| 469/469 [00:54<00:00,  8.54it/s]\n"
          ],
          "name": "stderr"
        },
        {
          "output_type": "stream",
          "text": [
            "\n",
            " Epoch 10, lr 0.01\n"
          ],
          "name": "stdout"
        },
        {
          "output_type": "stream",
          "text": [
            "Loss=0.0888138934969902 Batch_id=0 Accuracy=96.09:   0%|          | 1/469 [00:00<00:54,  8.63it/s]"
          ],
          "name": "stderr"
        },
        {
          "output_type": "stream",
          "text": [
            "\n",
            "Test set: Average loss: 0.0427, Accuracy: 9880/10000 (98.80%)\n",
            "\n"
          ],
          "name": "stdout"
        },
        {
          "output_type": "stream",
          "text": [
            "Loss=0.11823265254497528 Batch_id=468 Accuracy=98.61: 100%|██████████| 469/469 [00:54<00:00,  8.56it/s]\n"
          ],
          "name": "stderr"
        },
        {
          "output_type": "stream",
          "text": [
            "\n",
            " Epoch 11, lr 0.01\n"
          ],
          "name": "stdout"
        },
        {
          "output_type": "stream",
          "text": [
            "Loss=0.0730455294251442 Batch_id=0 Accuracy=97.66:   0%|          | 1/469 [00:00<00:58,  7.96it/s]"
          ],
          "name": "stderr"
        },
        {
          "output_type": "stream",
          "text": [
            "\n",
            "Test set: Average loss: 0.0373, Accuracy: 9904/10000 (99.04%)\n",
            "\n"
          ],
          "name": "stdout"
        },
        {
          "output_type": "stream",
          "text": [
            "Loss=0.03918289393186569 Batch_id=468 Accuracy=98.69: 100%|██████████| 469/469 [00:55<00:00,  8.53it/s]\n"
          ],
          "name": "stderr"
        },
        {
          "output_type": "stream",
          "text": [
            "\n",
            " Epoch 12, lr 0.01\n"
          ],
          "name": "stdout"
        },
        {
          "output_type": "stream",
          "text": [
            "Loss=0.0464884489774704 Batch_id=0 Accuracy=99.22:   0%|          | 1/469 [00:00<00:54,  8.52it/s]"
          ],
          "name": "stderr"
        },
        {
          "output_type": "stream",
          "text": [
            "\n",
            "Test set: Average loss: 0.0395, Accuracy: 9898/10000 (98.98%)\n",
            "\n"
          ],
          "name": "stdout"
        },
        {
          "output_type": "stream",
          "text": [
            "Loss=0.04914826899766922 Batch_id=468 Accuracy=98.77: 100%|██████████| 469/469 [00:55<00:00,  8.50it/s]\n"
          ],
          "name": "stderr"
        },
        {
          "output_type": "stream",
          "text": [
            "\n",
            " Epoch 13, lr 0.01\n"
          ],
          "name": "stdout"
        },
        {
          "output_type": "stream",
          "text": [
            "Loss=0.04965530335903168 Batch_id=0 Accuracy=99.22:   0%|          | 1/469 [00:00<00:53,  8.77it/s]"
          ],
          "name": "stderr"
        },
        {
          "output_type": "stream",
          "text": [
            "\n",
            "Test set: Average loss: 0.0376, Accuracy: 9903/10000 (99.03%)\n",
            "\n"
          ],
          "name": "stdout"
        },
        {
          "output_type": "stream",
          "text": [
            "Loss=0.12339839339256287 Batch_id=468 Accuracy=98.72: 100%|██████████| 469/469 [00:55<00:00,  8.52it/s]\n"
          ],
          "name": "stderr"
        },
        {
          "output_type": "stream",
          "text": [
            "\n",
            " Epoch 14, lr 0.01\n"
          ],
          "name": "stdout"
        },
        {
          "output_type": "stream",
          "text": [
            "Loss=0.04056987538933754 Batch_id=0 Accuracy=99.22:   0%|          | 1/469 [00:00<00:55,  8.45it/s]"
          ],
          "name": "stderr"
        },
        {
          "output_type": "stream",
          "text": [
            "\n",
            "Test set: Average loss: 0.0316, Accuracy: 9921/10000 (99.21%)\n",
            "\n"
          ],
          "name": "stdout"
        },
        {
          "output_type": "stream",
          "text": [
            "Loss=0.09335332363843918 Batch_id=468 Accuracy=98.83: 100%|██████████| 469/469 [00:54<00:00,  8.54it/s]\n"
          ],
          "name": "stderr"
        },
        {
          "output_type": "stream",
          "text": [
            "\n",
            " Epoch 15, lr 0.01\n"
          ],
          "name": "stdout"
        },
        {
          "output_type": "stream",
          "text": [
            "Loss=0.038052696734666824 Batch_id=0 Accuracy=100.00:   0%|          | 1/469 [00:00<00:53,  8.82it/s]"
          ],
          "name": "stderr"
        },
        {
          "output_type": "stream",
          "text": [
            "\n",
            "Test set: Average loss: 0.0338, Accuracy: 9898/10000 (98.98%)\n",
            "\n"
          ],
          "name": "stdout"
        },
        {
          "output_type": "stream",
          "text": [
            "Loss=0.035032618790864944 Batch_id=468 Accuracy=98.76: 100%|██████████| 469/469 [00:55<00:00,  8.52it/s]\n"
          ],
          "name": "stderr"
        },
        {
          "output_type": "stream",
          "text": [
            "\n",
            " Epoch 16, lr 0.01\n"
          ],
          "name": "stdout"
        },
        {
          "output_type": "stream",
          "text": [
            "Loss=0.09986825287342072 Batch_id=0 Accuracy=96.88:   0%|          | 1/469 [00:00<00:58,  7.99it/s]"
          ],
          "name": "stderr"
        },
        {
          "output_type": "stream",
          "text": [
            "\n",
            "Test set: Average loss: 0.0335, Accuracy: 9911/10000 (99.11%)\n",
            "\n"
          ],
          "name": "stdout"
        },
        {
          "output_type": "stream",
          "text": [
            "Loss=0.09555476903915405 Batch_id=468 Accuracy=98.87: 100%|██████████| 469/469 [00:55<00:00,  8.51it/s]\n"
          ],
          "name": "stderr"
        },
        {
          "output_type": "stream",
          "text": [
            "\n",
            " Epoch 17, lr 0.01\n"
          ],
          "name": "stdout"
        },
        {
          "output_type": "stream",
          "text": [
            "Loss=0.06500353664159775 Batch_id=0 Accuracy=97.66:   0%|          | 1/469 [00:00<00:53,  8.68it/s]"
          ],
          "name": "stderr"
        },
        {
          "output_type": "stream",
          "text": [
            "\n",
            "Test set: Average loss: 0.0311, Accuracy: 9917/10000 (99.17%)\n",
            "\n"
          ],
          "name": "stdout"
        },
        {
          "output_type": "stream",
          "text": [
            "Loss=0.07444456219673157 Batch_id=468 Accuracy=98.84: 100%|██████████| 469/469 [00:55<00:00,  8.50it/s]\n"
          ],
          "name": "stderr"
        },
        {
          "output_type": "stream",
          "text": [
            "\n",
            " Epoch 18, lr 0.01\n"
          ],
          "name": "stdout"
        },
        {
          "output_type": "stream",
          "text": [
            "Loss=0.03540825843811035 Batch_id=0 Accuracy=99.22:   0%|          | 1/469 [00:00<00:58,  8.02it/s]"
          ],
          "name": "stderr"
        },
        {
          "output_type": "stream",
          "text": [
            "\n",
            "Test set: Average loss: 0.0304, Accuracy: 9919/10000 (99.19%)\n",
            "\n"
          ],
          "name": "stdout"
        },
        {
          "output_type": "stream",
          "text": [
            "Loss=0.025846993550658226 Batch_id=468 Accuracy=98.98: 100%|██████████| 469/469 [00:54<00:00,  8.54it/s]\n"
          ],
          "name": "stderr"
        },
        {
          "output_type": "stream",
          "text": [
            "\n",
            " Epoch 19, lr 0.01\n"
          ],
          "name": "stdout"
        },
        {
          "output_type": "stream",
          "text": [
            "Loss=0.05375789478421211 Batch_id=0 Accuracy=97.66:   0%|          | 1/469 [00:00<00:54,  8.66it/s]"
          ],
          "name": "stderr"
        },
        {
          "output_type": "stream",
          "text": [
            "\n",
            "Test set: Average loss: 0.0287, Accuracy: 9924/10000 (99.24%)\n",
            "\n"
          ],
          "name": "stdout"
        },
        {
          "output_type": "stream",
          "text": [
            "Loss=0.042164940387010574 Batch_id=468 Accuracy=98.88: 100%|██████████| 469/469 [00:54<00:00,  8.55it/s]\n"
          ],
          "name": "stderr"
        },
        {
          "output_type": "stream",
          "text": [
            "\n",
            " Epoch 20, lr 0.01\n"
          ],
          "name": "stdout"
        },
        {
          "output_type": "stream",
          "text": [
            "Loss=0.04369354620575905 Batch_id=0 Accuracy=98.44:   0%|          | 1/469 [00:00<00:57,  8.12it/s]"
          ],
          "name": "stderr"
        },
        {
          "output_type": "stream",
          "text": [
            "\n",
            "Test set: Average loss: 0.0283, Accuracy: 9922/10000 (99.22%)\n",
            "\n"
          ],
          "name": "stdout"
        },
        {
          "output_type": "stream",
          "text": [
            "Loss=0.03698575496673584 Batch_id=189 Accuracy=99.05:  41%|████      | 190/469 [00:22<00:32,  8.63it/s]"
          ],
          "name": "stderr"
        }
      ]
    },
    {
      "cell_type": "code",
      "metadata": {
        "id": "2C0gv5Uwqg2j",
        "colab_type": "code",
        "colab": {}
      },
      "source": [
        "#Plot for Test Losses for Different Cases\n",
        "plot_stat(total_test_losses, 'Loss')"
      ],
      "execution_count": null,
      "outputs": []
    },
    {
      "cell_type": "code",
      "metadata": {
        "id": "jrzeYvX3qmG8",
        "colab_type": "code",
        "colab": {}
      },
      "source": [
        "# Plot for Test accuracy for Different Cases\n",
        "print(total_test_accuracies)\n",
        "plot_stat(total_test_accuracies, 'Acc')"
      ],
      "execution_count": null,
      "outputs": []
    },
    {
      "cell_type": "code",
      "metadata": {
        "id": "pcxNW_L44qzQ",
        "colab_type": "code",
        "colab": {}
      },
      "source": [
        "misclassified_image_finder(model, save_path_gbn, device, train_loader, EPOCHS, \"Ghost Batch Normalization\")"
      ],
      "execution_count": null,
      "outputs": []
    },
    {
      "cell_type": "markdown",
      "metadata": {
        "id": "DfKfRhnqO6mJ",
        "colab_type": "text"
      },
      "source": [
        "## Summary:\n",
        "\n",
        "A simple DNN with Total params=7,612 was created and trained for 25 epochs with L1, L2 Regularization, Batch Normalization and Ghost Batch Normalization. \n",
        "\n",
        "Following are the accuracy observed:\n",
        "\n",
        "> 1. with L1 + BN => **99.29%**\n",
        "2. with L2 + BN => **99.31%**\n",
        "3. with L1 and L2 with BN => **99.47%**\n",
        "4. with GBN => **98.9%**\n",
        "5. with L1 and L2 with GBN => **99.33%**\n",
        "\n",
        "Reference:\n",
        "* GBN:  https://github.com/apple/ml-cifar-10-faster/blob/master/utils.py\n",
        "\n"
      ]
    }
  ]
}