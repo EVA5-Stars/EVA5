{
  "nbformat": 4,
  "nbformat_minor": 0,
  "metadata": {
    "colab": {
      "name": "EVA5_Submission_Session_6_in_progress.ipynb",
      "provenance": [],
      "collapsed_sections": [],
      "include_colab_link": true
    },
    "kernelspec": {
      "name": "python3",
      "display_name": "Python 3"
    },
    "widgets": {
      "application/vnd.jupyter.widget-state+json": {
        "89d16a967f91447189de94b707a6aa9a": {
          "model_module": "@jupyter-widgets/controls",
          "model_name": "HBoxModel",
          "state": {
            "_view_name": "HBoxView",
            "_dom_classes": [],
            "_model_name": "HBoxModel",
            "_view_module": "@jupyter-widgets/controls",
            "_model_module_version": "1.5.0",
            "_view_count": null,
            "_view_module_version": "1.5.0",
            "box_style": "",
            "layout": "IPY_MODEL_521d608ab74945ac85e32e60d185b196",
            "_model_module": "@jupyter-widgets/controls",
            "children": [
              "IPY_MODEL_51c04cdabf2c465a8e62dfef3252c9e1",
              "IPY_MODEL_caa1e4c028cd43cdb86465cb7683c773"
            ]
          }
        },
        "521d608ab74945ac85e32e60d185b196": {
          "model_module": "@jupyter-widgets/base",
          "model_name": "LayoutModel",
          "state": {
            "_view_name": "LayoutView",
            "grid_template_rows": null,
            "right": null,
            "justify_content": null,
            "_view_module": "@jupyter-widgets/base",
            "overflow": null,
            "_model_module_version": "1.2.0",
            "_view_count": null,
            "flex_flow": null,
            "width": null,
            "min_width": null,
            "border": null,
            "align_items": null,
            "bottom": null,
            "_model_module": "@jupyter-widgets/base",
            "top": null,
            "grid_column": null,
            "overflow_y": null,
            "overflow_x": null,
            "grid_auto_flow": null,
            "grid_area": null,
            "grid_template_columns": null,
            "flex": null,
            "_model_name": "LayoutModel",
            "justify_items": null,
            "grid_row": null,
            "max_height": null,
            "align_content": null,
            "visibility": null,
            "align_self": null,
            "height": null,
            "min_height": null,
            "padding": null,
            "grid_auto_rows": null,
            "grid_gap": null,
            "max_width": null,
            "order": null,
            "_view_module_version": "1.2.0",
            "grid_template_areas": null,
            "object_position": null,
            "object_fit": null,
            "grid_auto_columns": null,
            "margin": null,
            "display": null,
            "left": null
          }
        },
        "51c04cdabf2c465a8e62dfef3252c9e1": {
          "model_module": "@jupyter-widgets/controls",
          "model_name": "FloatProgressModel",
          "state": {
            "_view_name": "ProgressView",
            "style": "IPY_MODEL_864827abbbca42a28649433cd05fc2de",
            "_dom_classes": [],
            "description": "",
            "_model_name": "FloatProgressModel",
            "bar_style": "info",
            "max": 1,
            "_view_module": "@jupyter-widgets/controls",
            "_model_module_version": "1.5.0",
            "value": 1,
            "_view_count": null,
            "_view_module_version": "1.5.0",
            "orientation": "horizontal",
            "min": 0,
            "description_tooltip": null,
            "_model_module": "@jupyter-widgets/controls",
            "layout": "IPY_MODEL_0ca7e9ab3d264fb192004fd74809092d"
          }
        },
        "caa1e4c028cd43cdb86465cb7683c773": {
          "model_module": "@jupyter-widgets/controls",
          "model_name": "HTMLModel",
          "state": {
            "_view_name": "HTMLView",
            "style": "IPY_MODEL_bbe7247f0fba47f595137b058e94ab33",
            "_dom_classes": [],
            "description": "",
            "_model_name": "HTMLModel",
            "placeholder": "​",
            "_view_module": "@jupyter-widgets/controls",
            "_model_module_version": "1.5.0",
            "value": " 9920512/? [00:20&lt;00:00, 1578358.89it/s]",
            "_view_count": null,
            "_view_module_version": "1.5.0",
            "description_tooltip": null,
            "_model_module": "@jupyter-widgets/controls",
            "layout": "IPY_MODEL_d7c5ede5b7634298aa08ec53b615ab89"
          }
        },
        "864827abbbca42a28649433cd05fc2de": {
          "model_module": "@jupyter-widgets/controls",
          "model_name": "ProgressStyleModel",
          "state": {
            "_view_name": "StyleView",
            "_model_name": "ProgressStyleModel",
            "description_width": "initial",
            "_view_module": "@jupyter-widgets/base",
            "_model_module_version": "1.5.0",
            "_view_count": null,
            "_view_module_version": "1.2.0",
            "bar_color": null,
            "_model_module": "@jupyter-widgets/controls"
          }
        },
        "0ca7e9ab3d264fb192004fd74809092d": {
          "model_module": "@jupyter-widgets/base",
          "model_name": "LayoutModel",
          "state": {
            "_view_name": "LayoutView",
            "grid_template_rows": null,
            "right": null,
            "justify_content": null,
            "_view_module": "@jupyter-widgets/base",
            "overflow": null,
            "_model_module_version": "1.2.0",
            "_view_count": null,
            "flex_flow": null,
            "width": null,
            "min_width": null,
            "border": null,
            "align_items": null,
            "bottom": null,
            "_model_module": "@jupyter-widgets/base",
            "top": null,
            "grid_column": null,
            "overflow_y": null,
            "overflow_x": null,
            "grid_auto_flow": null,
            "grid_area": null,
            "grid_template_columns": null,
            "flex": null,
            "_model_name": "LayoutModel",
            "justify_items": null,
            "grid_row": null,
            "max_height": null,
            "align_content": null,
            "visibility": null,
            "align_self": null,
            "height": null,
            "min_height": null,
            "padding": null,
            "grid_auto_rows": null,
            "grid_gap": null,
            "max_width": null,
            "order": null,
            "_view_module_version": "1.2.0",
            "grid_template_areas": null,
            "object_position": null,
            "object_fit": null,
            "grid_auto_columns": null,
            "margin": null,
            "display": null,
            "left": null
          }
        },
        "bbe7247f0fba47f595137b058e94ab33": {
          "model_module": "@jupyter-widgets/controls",
          "model_name": "DescriptionStyleModel",
          "state": {
            "_view_name": "StyleView",
            "_model_name": "DescriptionStyleModel",
            "description_width": "",
            "_view_module": "@jupyter-widgets/base",
            "_model_module_version": "1.5.0",
            "_view_count": null,
            "_view_module_version": "1.2.0",
            "_model_module": "@jupyter-widgets/controls"
          }
        },
        "d7c5ede5b7634298aa08ec53b615ab89": {
          "model_module": "@jupyter-widgets/base",
          "model_name": "LayoutModel",
          "state": {
            "_view_name": "LayoutView",
            "grid_template_rows": null,
            "right": null,
            "justify_content": null,
            "_view_module": "@jupyter-widgets/base",
            "overflow": null,
            "_model_module_version": "1.2.0",
            "_view_count": null,
            "flex_flow": null,
            "width": null,
            "min_width": null,
            "border": null,
            "align_items": null,
            "bottom": null,
            "_model_module": "@jupyter-widgets/base",
            "top": null,
            "grid_column": null,
            "overflow_y": null,
            "overflow_x": null,
            "grid_auto_flow": null,
            "grid_area": null,
            "grid_template_columns": null,
            "flex": null,
            "_model_name": "LayoutModel",
            "justify_items": null,
            "grid_row": null,
            "max_height": null,
            "align_content": null,
            "visibility": null,
            "align_self": null,
            "height": null,
            "min_height": null,
            "padding": null,
            "grid_auto_rows": null,
            "grid_gap": null,
            "max_width": null,
            "order": null,
            "_view_module_version": "1.2.0",
            "grid_template_areas": null,
            "object_position": null,
            "object_fit": null,
            "grid_auto_columns": null,
            "margin": null,
            "display": null,
            "left": null
          }
        },
        "1e8036c74e8443c58909e09ce5724c35": {
          "model_module": "@jupyter-widgets/controls",
          "model_name": "HBoxModel",
          "state": {
            "_view_name": "HBoxView",
            "_dom_classes": [],
            "_model_name": "HBoxModel",
            "_view_module": "@jupyter-widgets/controls",
            "_model_module_version": "1.5.0",
            "_view_count": null,
            "_view_module_version": "1.5.0",
            "box_style": "",
            "layout": "IPY_MODEL_2e41cea0c3b744b09c8db30914450b17",
            "_model_module": "@jupyter-widgets/controls",
            "children": [
              "IPY_MODEL_2890f188fd0a49f4b5e7620e935ff746",
              "IPY_MODEL_69040927b9bf45ddbbde7e518ec14f39"
            ]
          }
        },
        "2e41cea0c3b744b09c8db30914450b17": {
          "model_module": "@jupyter-widgets/base",
          "model_name": "LayoutModel",
          "state": {
            "_view_name": "LayoutView",
            "grid_template_rows": null,
            "right": null,
            "justify_content": null,
            "_view_module": "@jupyter-widgets/base",
            "overflow": null,
            "_model_module_version": "1.2.0",
            "_view_count": null,
            "flex_flow": null,
            "width": null,
            "min_width": null,
            "border": null,
            "align_items": null,
            "bottom": null,
            "_model_module": "@jupyter-widgets/base",
            "top": null,
            "grid_column": null,
            "overflow_y": null,
            "overflow_x": null,
            "grid_auto_flow": null,
            "grid_area": null,
            "grid_template_columns": null,
            "flex": null,
            "_model_name": "LayoutModel",
            "justify_items": null,
            "grid_row": null,
            "max_height": null,
            "align_content": null,
            "visibility": null,
            "align_self": null,
            "height": null,
            "min_height": null,
            "padding": null,
            "grid_auto_rows": null,
            "grid_gap": null,
            "max_width": null,
            "order": null,
            "_view_module_version": "1.2.0",
            "grid_template_areas": null,
            "object_position": null,
            "object_fit": null,
            "grid_auto_columns": null,
            "margin": null,
            "display": null,
            "left": null
          }
        },
        "2890f188fd0a49f4b5e7620e935ff746": {
          "model_module": "@jupyter-widgets/controls",
          "model_name": "FloatProgressModel",
          "state": {
            "_view_name": "ProgressView",
            "style": "IPY_MODEL_8e5f83e3e6ae4e66ad252d8f47b7162a",
            "_dom_classes": [],
            "description": "",
            "_model_name": "FloatProgressModel",
            "bar_style": "success",
            "max": 1,
            "_view_module": "@jupyter-widgets/controls",
            "_model_module_version": "1.5.0",
            "value": 1,
            "_view_count": null,
            "_view_module_version": "1.5.0",
            "orientation": "horizontal",
            "min": 0,
            "description_tooltip": null,
            "_model_module": "@jupyter-widgets/controls",
            "layout": "IPY_MODEL_2e2c6125cd4748459839359b185bcd88"
          }
        },
        "69040927b9bf45ddbbde7e518ec14f39": {
          "model_module": "@jupyter-widgets/controls",
          "model_name": "HTMLModel",
          "state": {
            "_view_name": "HTMLView",
            "style": "IPY_MODEL_3978628d34aa4461a47411203ee7b51a",
            "_dom_classes": [],
            "description": "",
            "_model_name": "HTMLModel",
            "placeholder": "​",
            "_view_module": "@jupyter-widgets/controls",
            "_model_module_version": "1.5.0",
            "value": " 32768/? [00:00&lt;00:00, 47070.78it/s]",
            "_view_count": null,
            "_view_module_version": "1.5.0",
            "description_tooltip": null,
            "_model_module": "@jupyter-widgets/controls",
            "layout": "IPY_MODEL_888acaf03602484fbd5a497fc97e3359"
          }
        },
        "8e5f83e3e6ae4e66ad252d8f47b7162a": {
          "model_module": "@jupyter-widgets/controls",
          "model_name": "ProgressStyleModel",
          "state": {
            "_view_name": "StyleView",
            "_model_name": "ProgressStyleModel",
            "description_width": "initial",
            "_view_module": "@jupyter-widgets/base",
            "_model_module_version": "1.5.0",
            "_view_count": null,
            "_view_module_version": "1.2.0",
            "bar_color": null,
            "_model_module": "@jupyter-widgets/controls"
          }
        },
        "2e2c6125cd4748459839359b185bcd88": {
          "model_module": "@jupyter-widgets/base",
          "model_name": "LayoutModel",
          "state": {
            "_view_name": "LayoutView",
            "grid_template_rows": null,
            "right": null,
            "justify_content": null,
            "_view_module": "@jupyter-widgets/base",
            "overflow": null,
            "_model_module_version": "1.2.0",
            "_view_count": null,
            "flex_flow": null,
            "width": null,
            "min_width": null,
            "border": null,
            "align_items": null,
            "bottom": null,
            "_model_module": "@jupyter-widgets/base",
            "top": null,
            "grid_column": null,
            "overflow_y": null,
            "overflow_x": null,
            "grid_auto_flow": null,
            "grid_area": null,
            "grid_template_columns": null,
            "flex": null,
            "_model_name": "LayoutModel",
            "justify_items": null,
            "grid_row": null,
            "max_height": null,
            "align_content": null,
            "visibility": null,
            "align_self": null,
            "height": null,
            "min_height": null,
            "padding": null,
            "grid_auto_rows": null,
            "grid_gap": null,
            "max_width": null,
            "order": null,
            "_view_module_version": "1.2.0",
            "grid_template_areas": null,
            "object_position": null,
            "object_fit": null,
            "grid_auto_columns": null,
            "margin": null,
            "display": null,
            "left": null
          }
        },
        "3978628d34aa4461a47411203ee7b51a": {
          "model_module": "@jupyter-widgets/controls",
          "model_name": "DescriptionStyleModel",
          "state": {
            "_view_name": "StyleView",
            "_model_name": "DescriptionStyleModel",
            "description_width": "",
            "_view_module": "@jupyter-widgets/base",
            "_model_module_version": "1.5.0",
            "_view_count": null,
            "_view_module_version": "1.2.0",
            "_model_module": "@jupyter-widgets/controls"
          }
        },
        "888acaf03602484fbd5a497fc97e3359": {
          "model_module": "@jupyter-widgets/base",
          "model_name": "LayoutModel",
          "state": {
            "_view_name": "LayoutView",
            "grid_template_rows": null,
            "right": null,
            "justify_content": null,
            "_view_module": "@jupyter-widgets/base",
            "overflow": null,
            "_model_module_version": "1.2.0",
            "_view_count": null,
            "flex_flow": null,
            "width": null,
            "min_width": null,
            "border": null,
            "align_items": null,
            "bottom": null,
            "_model_module": "@jupyter-widgets/base",
            "top": null,
            "grid_column": null,
            "overflow_y": null,
            "overflow_x": null,
            "grid_auto_flow": null,
            "grid_area": null,
            "grid_template_columns": null,
            "flex": null,
            "_model_name": "LayoutModel",
            "justify_items": null,
            "grid_row": null,
            "max_height": null,
            "align_content": null,
            "visibility": null,
            "align_self": null,
            "height": null,
            "min_height": null,
            "padding": null,
            "grid_auto_rows": null,
            "grid_gap": null,
            "max_width": null,
            "order": null,
            "_view_module_version": "1.2.0",
            "grid_template_areas": null,
            "object_position": null,
            "object_fit": null,
            "grid_auto_columns": null,
            "margin": null,
            "display": null,
            "left": null
          }
        },
        "09561cc15736477b8448eb3e0e420730": {
          "model_module": "@jupyter-widgets/controls",
          "model_name": "HBoxModel",
          "state": {
            "_view_name": "HBoxView",
            "_dom_classes": [],
            "_model_name": "HBoxModel",
            "_view_module": "@jupyter-widgets/controls",
            "_model_module_version": "1.5.0",
            "_view_count": null,
            "_view_module_version": "1.5.0",
            "box_style": "",
            "layout": "IPY_MODEL_bd63b1e792554b97970409d99c740294",
            "_model_module": "@jupyter-widgets/controls",
            "children": [
              "IPY_MODEL_472288acf4754298a4b7bc01037bb38d",
              "IPY_MODEL_7cef2874ea0a424a8c1198732c1601d5"
            ]
          }
        },
        "bd63b1e792554b97970409d99c740294": {
          "model_module": "@jupyter-widgets/base",
          "model_name": "LayoutModel",
          "state": {
            "_view_name": "LayoutView",
            "grid_template_rows": null,
            "right": null,
            "justify_content": null,
            "_view_module": "@jupyter-widgets/base",
            "overflow": null,
            "_model_module_version": "1.2.0",
            "_view_count": null,
            "flex_flow": null,
            "width": null,
            "min_width": null,
            "border": null,
            "align_items": null,
            "bottom": null,
            "_model_module": "@jupyter-widgets/base",
            "top": null,
            "grid_column": null,
            "overflow_y": null,
            "overflow_x": null,
            "grid_auto_flow": null,
            "grid_area": null,
            "grid_template_columns": null,
            "flex": null,
            "_model_name": "LayoutModel",
            "justify_items": null,
            "grid_row": null,
            "max_height": null,
            "align_content": null,
            "visibility": null,
            "align_self": null,
            "height": null,
            "min_height": null,
            "padding": null,
            "grid_auto_rows": null,
            "grid_gap": null,
            "max_width": null,
            "order": null,
            "_view_module_version": "1.2.0",
            "grid_template_areas": null,
            "object_position": null,
            "object_fit": null,
            "grid_auto_columns": null,
            "margin": null,
            "display": null,
            "left": null
          }
        },
        "472288acf4754298a4b7bc01037bb38d": {
          "model_module": "@jupyter-widgets/controls",
          "model_name": "FloatProgressModel",
          "state": {
            "_view_name": "ProgressView",
            "style": "IPY_MODEL_bd25370cc95f45e49190ca5dbc8eba5f",
            "_dom_classes": [],
            "description": "",
            "_model_name": "FloatProgressModel",
            "bar_style": "info",
            "max": 1,
            "_view_module": "@jupyter-widgets/controls",
            "_model_module_version": "1.5.0",
            "value": 1,
            "_view_count": null,
            "_view_module_version": "1.5.0",
            "orientation": "horizontal",
            "min": 0,
            "description_tooltip": null,
            "_model_module": "@jupyter-widgets/controls",
            "layout": "IPY_MODEL_212c2dba07454e1d93a492e352d4310c"
          }
        },
        "7cef2874ea0a424a8c1198732c1601d5": {
          "model_module": "@jupyter-widgets/controls",
          "model_name": "HTMLModel",
          "state": {
            "_view_name": "HTMLView",
            "style": "IPY_MODEL_2210a4cbdde7463f89aa81d949118de7",
            "_dom_classes": [],
            "description": "",
            "_model_name": "HTMLModel",
            "placeholder": "​",
            "_view_module": "@jupyter-widgets/controls",
            "_model_module_version": "1.5.0",
            "value": " 1654784/? [00:16&lt;00:00, 291377.46it/s]",
            "_view_count": null,
            "_view_module_version": "1.5.0",
            "description_tooltip": null,
            "_model_module": "@jupyter-widgets/controls",
            "layout": "IPY_MODEL_d79ed3984f5d4d3f8fe1a4354945a2f0"
          }
        },
        "bd25370cc95f45e49190ca5dbc8eba5f": {
          "model_module": "@jupyter-widgets/controls",
          "model_name": "ProgressStyleModel",
          "state": {
            "_view_name": "StyleView",
            "_model_name": "ProgressStyleModel",
            "description_width": "initial",
            "_view_module": "@jupyter-widgets/base",
            "_model_module_version": "1.5.0",
            "_view_count": null,
            "_view_module_version": "1.2.0",
            "bar_color": null,
            "_model_module": "@jupyter-widgets/controls"
          }
        },
        "212c2dba07454e1d93a492e352d4310c": {
          "model_module": "@jupyter-widgets/base",
          "model_name": "LayoutModel",
          "state": {
            "_view_name": "LayoutView",
            "grid_template_rows": null,
            "right": null,
            "justify_content": null,
            "_view_module": "@jupyter-widgets/base",
            "overflow": null,
            "_model_module_version": "1.2.0",
            "_view_count": null,
            "flex_flow": null,
            "width": null,
            "min_width": null,
            "border": null,
            "align_items": null,
            "bottom": null,
            "_model_module": "@jupyter-widgets/base",
            "top": null,
            "grid_column": null,
            "overflow_y": null,
            "overflow_x": null,
            "grid_auto_flow": null,
            "grid_area": null,
            "grid_template_columns": null,
            "flex": null,
            "_model_name": "LayoutModel",
            "justify_items": null,
            "grid_row": null,
            "max_height": null,
            "align_content": null,
            "visibility": null,
            "align_self": null,
            "height": null,
            "min_height": null,
            "padding": null,
            "grid_auto_rows": null,
            "grid_gap": null,
            "max_width": null,
            "order": null,
            "_view_module_version": "1.2.0",
            "grid_template_areas": null,
            "object_position": null,
            "object_fit": null,
            "grid_auto_columns": null,
            "margin": null,
            "display": null,
            "left": null
          }
        },
        "2210a4cbdde7463f89aa81d949118de7": {
          "model_module": "@jupyter-widgets/controls",
          "model_name": "DescriptionStyleModel",
          "state": {
            "_view_name": "StyleView",
            "_model_name": "DescriptionStyleModel",
            "description_width": "",
            "_view_module": "@jupyter-widgets/base",
            "_model_module_version": "1.5.0",
            "_view_count": null,
            "_view_module_version": "1.2.0",
            "_model_module": "@jupyter-widgets/controls"
          }
        },
        "d79ed3984f5d4d3f8fe1a4354945a2f0": {
          "model_module": "@jupyter-widgets/base",
          "model_name": "LayoutModel",
          "state": {
            "_view_name": "LayoutView",
            "grid_template_rows": null,
            "right": null,
            "justify_content": null,
            "_view_module": "@jupyter-widgets/base",
            "overflow": null,
            "_model_module_version": "1.2.0",
            "_view_count": null,
            "flex_flow": null,
            "width": null,
            "min_width": null,
            "border": null,
            "align_items": null,
            "bottom": null,
            "_model_module": "@jupyter-widgets/base",
            "top": null,
            "grid_column": null,
            "overflow_y": null,
            "overflow_x": null,
            "grid_auto_flow": null,
            "grid_area": null,
            "grid_template_columns": null,
            "flex": null,
            "_model_name": "LayoutModel",
            "justify_items": null,
            "grid_row": null,
            "max_height": null,
            "align_content": null,
            "visibility": null,
            "align_self": null,
            "height": null,
            "min_height": null,
            "padding": null,
            "grid_auto_rows": null,
            "grid_gap": null,
            "max_width": null,
            "order": null,
            "_view_module_version": "1.2.0",
            "grid_template_areas": null,
            "object_position": null,
            "object_fit": null,
            "grid_auto_columns": null,
            "margin": null,
            "display": null,
            "left": null
          }
        },
        "0434e3d082224a7d9941769d539d1c64": {
          "model_module": "@jupyter-widgets/controls",
          "model_name": "HBoxModel",
          "state": {
            "_view_name": "HBoxView",
            "_dom_classes": [],
            "_model_name": "HBoxModel",
            "_view_module": "@jupyter-widgets/controls",
            "_model_module_version": "1.5.0",
            "_view_count": null,
            "_view_module_version": "1.5.0",
            "box_style": "",
            "layout": "IPY_MODEL_1838465c48a747f4bad63c30e32310a4",
            "_model_module": "@jupyter-widgets/controls",
            "children": [
              "IPY_MODEL_9e16eeb93efc4fd0a4dba9754a5cd5e3",
              "IPY_MODEL_3a0b30362e744efda1922fd9af07ec66"
            ]
          }
        },
        "1838465c48a747f4bad63c30e32310a4": {
          "model_module": "@jupyter-widgets/base",
          "model_name": "LayoutModel",
          "state": {
            "_view_name": "LayoutView",
            "grid_template_rows": null,
            "right": null,
            "justify_content": null,
            "_view_module": "@jupyter-widgets/base",
            "overflow": null,
            "_model_module_version": "1.2.0",
            "_view_count": null,
            "flex_flow": null,
            "width": null,
            "min_width": null,
            "border": null,
            "align_items": null,
            "bottom": null,
            "_model_module": "@jupyter-widgets/base",
            "top": null,
            "grid_column": null,
            "overflow_y": null,
            "overflow_x": null,
            "grid_auto_flow": null,
            "grid_area": null,
            "grid_template_columns": null,
            "flex": null,
            "_model_name": "LayoutModel",
            "justify_items": null,
            "grid_row": null,
            "max_height": null,
            "align_content": null,
            "visibility": null,
            "align_self": null,
            "height": null,
            "min_height": null,
            "padding": null,
            "grid_auto_rows": null,
            "grid_gap": null,
            "max_width": null,
            "order": null,
            "_view_module_version": "1.2.0",
            "grid_template_areas": null,
            "object_position": null,
            "object_fit": null,
            "grid_auto_columns": null,
            "margin": null,
            "display": null,
            "left": null
          }
        },
        "9e16eeb93efc4fd0a4dba9754a5cd5e3": {
          "model_module": "@jupyter-widgets/controls",
          "model_name": "FloatProgressModel",
          "state": {
            "_view_name": "ProgressView",
            "style": "IPY_MODEL_929f4a55bb814a48a2d26fe14073f15f",
            "_dom_classes": [],
            "description": "",
            "_model_name": "FloatProgressModel",
            "bar_style": "success",
            "max": 1,
            "_view_module": "@jupyter-widgets/controls",
            "_model_module_version": "1.5.0",
            "value": 1,
            "_view_count": null,
            "_view_module_version": "1.5.0",
            "orientation": "horizontal",
            "min": 0,
            "description_tooltip": null,
            "_model_module": "@jupyter-widgets/controls",
            "layout": "IPY_MODEL_a65bc3e79f5047bc808f2a9be17e2bd1"
          }
        },
        "3a0b30362e744efda1922fd9af07ec66": {
          "model_module": "@jupyter-widgets/controls",
          "model_name": "HTMLModel",
          "state": {
            "_view_name": "HTMLView",
            "style": "IPY_MODEL_514dceaa0c3349d78f61038872bff3a3",
            "_dom_classes": [],
            "description": "",
            "_model_name": "HTMLModel",
            "placeholder": "​",
            "_view_module": "@jupyter-widgets/controls",
            "_model_module_version": "1.5.0",
            "value": " 8192/? [00:00&lt;00:00, 10549.60it/s]",
            "_view_count": null,
            "_view_module_version": "1.5.0",
            "description_tooltip": null,
            "_model_module": "@jupyter-widgets/controls",
            "layout": "IPY_MODEL_e629d919ac4e4ea986d3979ce88d28c0"
          }
        },
        "929f4a55bb814a48a2d26fe14073f15f": {
          "model_module": "@jupyter-widgets/controls",
          "model_name": "ProgressStyleModel",
          "state": {
            "_view_name": "StyleView",
            "_model_name": "ProgressStyleModel",
            "description_width": "initial",
            "_view_module": "@jupyter-widgets/base",
            "_model_module_version": "1.5.0",
            "_view_count": null,
            "_view_module_version": "1.2.0",
            "bar_color": null,
            "_model_module": "@jupyter-widgets/controls"
          }
        },
        "a65bc3e79f5047bc808f2a9be17e2bd1": {
          "model_module": "@jupyter-widgets/base",
          "model_name": "LayoutModel",
          "state": {
            "_view_name": "LayoutView",
            "grid_template_rows": null,
            "right": null,
            "justify_content": null,
            "_view_module": "@jupyter-widgets/base",
            "overflow": null,
            "_model_module_version": "1.2.0",
            "_view_count": null,
            "flex_flow": null,
            "width": null,
            "min_width": null,
            "border": null,
            "align_items": null,
            "bottom": null,
            "_model_module": "@jupyter-widgets/base",
            "top": null,
            "grid_column": null,
            "overflow_y": null,
            "overflow_x": null,
            "grid_auto_flow": null,
            "grid_area": null,
            "grid_template_columns": null,
            "flex": null,
            "_model_name": "LayoutModel",
            "justify_items": null,
            "grid_row": null,
            "max_height": null,
            "align_content": null,
            "visibility": null,
            "align_self": null,
            "height": null,
            "min_height": null,
            "padding": null,
            "grid_auto_rows": null,
            "grid_gap": null,
            "max_width": null,
            "order": null,
            "_view_module_version": "1.2.0",
            "grid_template_areas": null,
            "object_position": null,
            "object_fit": null,
            "grid_auto_columns": null,
            "margin": null,
            "display": null,
            "left": null
          }
        },
        "514dceaa0c3349d78f61038872bff3a3": {
          "model_module": "@jupyter-widgets/controls",
          "model_name": "DescriptionStyleModel",
          "state": {
            "_view_name": "StyleView",
            "_model_name": "DescriptionStyleModel",
            "description_width": "",
            "_view_module": "@jupyter-widgets/base",
            "_model_module_version": "1.5.0",
            "_view_count": null,
            "_view_module_version": "1.2.0",
            "_model_module": "@jupyter-widgets/controls"
          }
        },
        "e629d919ac4e4ea986d3979ce88d28c0": {
          "model_module": "@jupyter-widgets/base",
          "model_name": "LayoutModel",
          "state": {
            "_view_name": "LayoutView",
            "grid_template_rows": null,
            "right": null,
            "justify_content": null,
            "_view_module": "@jupyter-widgets/base",
            "overflow": null,
            "_model_module_version": "1.2.0",
            "_view_count": null,
            "flex_flow": null,
            "width": null,
            "min_width": null,
            "border": null,
            "align_items": null,
            "bottom": null,
            "_model_module": "@jupyter-widgets/base",
            "top": null,
            "grid_column": null,
            "overflow_y": null,
            "overflow_x": null,
            "grid_auto_flow": null,
            "grid_area": null,
            "grid_template_columns": null,
            "flex": null,
            "_model_name": "LayoutModel",
            "justify_items": null,
            "grid_row": null,
            "max_height": null,
            "align_content": null,
            "visibility": null,
            "align_self": null,
            "height": null,
            "min_height": null,
            "padding": null,
            "grid_auto_rows": null,
            "grid_gap": null,
            "max_width": null,
            "order": null,
            "_view_module_version": "1.2.0",
            "grid_template_areas": null,
            "object_position": null,
            "object_fit": null,
            "grid_auto_columns": null,
            "margin": null,
            "display": null,
            "left": null
          }
        }
      }
    }
  },
  "cells": [
    {
      "cell_type": "markdown",
      "metadata": {
        "id": "view-in-github",
        "colab_type": "text"
      },
      "source": [
        "<a href=\"https://colab.research.google.com/github/EVA5-Stars/EVA5/blob/master/S6/EVA5_Submission_Session_6_in_progress.ipynb\" target=\"_parent\"><img src=\"https://colab.research.google.com/assets/colab-badge.svg\" alt=\"Open In Colab\"/></a>"
      ]
    },
    {
      "cell_type": "markdown",
      "metadata": {
        "id": "d0aHYYuPdlGa",
        "colab_type": "text"
      },
      "source": [
        "* Objective take best 5th code, and run below versions for 25 epochs and report findings:\n",
        "\n",
        ">> 1. with L1 + BN\n",
        "2. with L2 + BN\n",
        "3. with L1 and L2 with BN\n",
        "4. with GBN\n",
        "5. with L1 and L2 with GBN\n",
        "\n",
        "\n",
        "* *You need to write a single loop or iterator to iterate through these conditions.*\n",
        "\n",
        "* Draw ONE graph to show the validation accuracy curves for all 5 jobs above. This graph must have proper legends and it should be clear what we are looking at.\n",
        "\n",
        "* Draw ONE graph to show the loss change curves for all 5 jobs above. This graph must have proper legends and it should be clear what we are looking at.\n",
        "\n",
        "* Find any 25 misclassified images (combined into single image) for \"with GBN\" model. You should be using the saved model from the above jobs.  You MUST show the actual and predicted class names.\n",
        "\n",
        "Submitted By: \n",
        "* Gaurav Makkar\n",
        "* Mohit Bhandari\n",
        "* Suman Debnath\n",
        "* Sriram Iyengar\n",
        "\n",
        "\n"
      ]
    },
    {
      "cell_type": "markdown",
      "metadata": {
        "id": "KEgSJRHhdjdJ",
        "colab_type": "text"
      },
      "source": [
        "## Import `pytorch` libraries and modules:"
      ]
    },
    {
      "cell_type": "code",
      "metadata": {
        "id": "f0gQABsxc9vC",
        "colab_type": "code",
        "colab": {}
      },
      "source": [
        "from __future__ import print_function\n",
        "import torch\n",
        "#import nueral net model in the torch\n",
        "import torch.nn as nn\n",
        "import torch.nn.functional as F\n",
        "import torch.optim as optim\n",
        "#torchvision is the libraray in torch that has many features\n",
        "#and we are using datasets and transforms from this library \n",
        "from torchvision import datasets, transforms"
      ],
      "execution_count": 1,
      "outputs": []
    },
    {
      "cell_type": "code",
      "metadata": {
        "id": "13qcbwl1ZvKz",
        "colab_type": "code",
        "colab": {
          "base_uri": "https://localhost:8080/",
          "height": 136
        },
        "outputId": "a459fbd1-c5c1-4ef5-f81f-e1a3951f135f"
      },
      "source": [
        "!rm -rf EVA5\n",
        "!git clone https://github.com/EVA5-Stars/EVA5.git"
      ],
      "execution_count": 2,
      "outputs": [
        {
          "output_type": "stream",
          "text": [
            "Cloning into 'EVA5'...\n",
            "remote: Enumerating objects: 146, done.\u001b[K\n",
            "remote: Counting objects: 100% (146/146), done.\u001b[K\n",
            "remote: Compressing objects: 100% (103/103), done.\u001b[K\n",
            "remote: Total 146 (delta 80), reused 85 (delta 39), pack-reused 0\u001b[K\n",
            "Receiving objects: 100% (146/146), 537.41 KiB | 760.00 KiB/s, done.\n",
            "Resolving deltas: 100% (80/80), done.\n"
          ],
          "name": "stdout"
        }
      ]
    },
    {
      "cell_type": "code",
      "metadata": {
        "id": "E0KZnc579qxQ",
        "colab_type": "code",
        "colab": {}
      },
      "source": [
        "%matplotlib inline\n",
        "import matplotlib.pyplot as plt"
      ],
      "execution_count": 3,
      "outputs": []
    },
    {
      "cell_type": "code",
      "metadata": {
        "id": "kWTNd6P_svjy",
        "colab_type": "code",
        "colab": {
          "base_uri": "https://localhost:8080/",
          "height": 119
        },
        "outputId": "2e8fcaca-24ab-4316-c02c-d05076f5c1a0"
      },
      "source": [
        "from google.colab import drive\n",
        "drive.mount('/content/gdrive')\n",
        "\n",
        "!ls /content/gdrive/My\\ Drive/Colab\\ Notebooks/EVA5/S6"
      ],
      "execution_count": 4,
      "outputs": [
        {
          "output_type": "stream",
          "text": [
            "Mounted at /content/gdrive\n",
            "EVA5_Submission_Session_6_inprogress.ipynb\n",
            "EVA5:Submission-Session_6_Model-BatchNormalization.pt\n",
            "EVA5:Submission-Session_6_Model-GhostBatchNormalization.pt\n",
            "L1EVA5:Submission-Session_6_Model-BatchNormalization.pt\n",
            "L1EVA5:Submission-Session_6_Model-GhostBatchNormalization.pt\n"
          ],
          "name": "stdout"
        }
      ]
    },
    {
      "cell_type": "code",
      "metadata": {
        "id": "_WmDblPl9ynq",
        "colab_type": "code",
        "colab": {
          "base_uri": "https://localhost:8080/",
          "height": 34
        },
        "outputId": "31545c86-5084-42df-af7e-9046fdc8bdb1"
      },
      "source": [
        "!pip install torchsummary\n",
        "from torchsummary import summary\n",
        "use_cuda = torch.cuda.is_available()\n",
        "device = torch.device(\"cuda\" if use_cuda else \"cpu\")"
      ],
      "execution_count": 5,
      "outputs": [
        {
          "output_type": "stream",
          "text": [
            "Requirement already satisfied: torchsummary in /usr/local/lib/python3.6/dist-packages (1.5.1)\n"
          ],
          "name": "stdout"
        }
      ]
    },
    {
      "cell_type": "markdown",
      "metadata": {
        "id": "mwNFJKT-jid_",
        "colab_type": "text"
      },
      "source": [
        "## Project Library:\n",
        "\n",
        "*   Ghost Batch Normalization\n",
        "*   Misclassified image collection\n",
        "*   Load the testing and training data with configurabe *batch_size*\n",
        "*   Plot the Loss and Accuracy Graph\n",
        "*   Define the structure of the network\n",
        "*   Setup to create model and summary\n",
        "*   Load the testing and training data with configurabe *batch_size*\n",
        "*   Define test and train functions\n",
        "*   Create a function to *initiate_training* for all conditions\n",
        "\n",
        "\n",
        "\n"
      ]
    },
    {
      "cell_type": "markdown",
      "metadata": {
        "id": "NjA0H9MvxK5_",
        "colab_type": "text"
      },
      "source": [
        "**Ghost Batch Normalization**: \n",
        "\n",
        "A technique originally developed for training with very large batch sizes across many accelerators. "
      ]
    },
    {
      "cell_type": "code",
      "metadata": {
        "id": "b1_ZAeo3xL3M",
        "colab_type": "code",
        "colab": {}
      },
      "source": [
        "#from EVA5.S6.BatchNorm_GhostBatchNorm import GhostBatchNorm\n",
        "#from EVA5.S6.BatchNorm_GhostBatchNorm import BatchNorm"
      ],
      "execution_count": 6,
      "outputs": []
    },
    {
      "cell_type": "markdown",
      "metadata": {
        "id": "-a6UwbhpkJ1y",
        "colab_type": "text"
      },
      "source": [
        "**Collecting Misclassified Images**"
      ]
    },
    {
      "cell_type": "code",
      "metadata": {
        "id": "_egQ6FDKkP2u",
        "colab_type": "code",
        "colab": {}
      },
      "source": [
        "#from S6.S6_plot_misclassfied_image_finder import misclassified_image_finder              \n",
        "def misclassified_image_finder(model, model_path, device, train_loader, image_num, msg):\n",
        "    \n",
        "    data_iter = iter(test_loader)\n",
        "    figure = plt.figure()\n",
        "\n",
        "    plt.title('Misclassified Images: With {}'.format(msg))\n",
        "   \n",
        "    for _i in range(image_num):\n",
        "          data, target = data_iter.next()\n",
        "\n",
        "          model.load_state_dict(torch.load(model_path)) \n",
        "          model.eval()\n",
        "\n",
        "          data, target = data.to(device), target.to(device)\n",
        "\n",
        "          output = model(data)\n",
        "          pred = output.argmax(dim=1, keepdim=True) \n",
        "\n",
        "          for a in range(256):\n",
        "              if(pred[a]!=target[a]):\n",
        "                  \n",
        "                  plt.subplot(5,5,_i+1)\n",
        "                  plt.axis('off')\n",
        "                  plt.imshow(data[a].cpu().numpy().squeeze(),cmap='gray_r')"
      ],
      "execution_count": 7,
      "outputs": []
    },
    {
      "cell_type": "markdown",
      "metadata": {
        "id": "l1_4BwyZX-Oh",
        "colab_type": "text"
      },
      "source": [
        "Plot the Loss and Accuracy Graph"
      ]
    },
    {
      "cell_type": "code",
      "metadata": {
        "id": "W4s4oGPvX_KM",
        "colab_type": "code",
        "colab": {}
      },
      "source": [
        "from EVA5.S6.S6_plot_stat_loss_acc import plot_stat"
      ],
      "execution_count": 8,
      "outputs": []
    },
    {
      "cell_type": "markdown",
      "metadata": {
        "id": "5IV_0psCd_er",
        "colab_type": "text"
      },
      "source": [
        "Define the structure of the network"
      ]
    },
    {
      "cell_type": "code",
      "metadata": {
        "id": "WQKJsA3yd_Bm",
        "colab_type": "code",
        "colab": {}
      },
      "source": [
        "from EVA5.S6.S6_Model_structure_create import Net"
      ],
      "execution_count": 9,
      "outputs": []
    },
    {
      "cell_type": "markdown",
      "metadata": {
        "id": "OZnYvmv4i3kV",
        "colab_type": "text"
      },
      "source": [
        "Setup to create model and summary"
      ]
    },
    {
      "cell_type": "code",
      "metadata": {
        "id": "0zBZmMhvi4Zx",
        "colab_type": "code",
        "colab": {}
      },
      "source": [
        "from EVA5.S6.S6_Model_structure_create import create_model"
      ],
      "execution_count": 10,
      "outputs": []
    },
    {
      "cell_type": "markdown",
      "metadata": {
        "id": "LnrI4dHLuXn2",
        "colab_type": "text"
      },
      "source": [
        "Load the testing and training data with configurabe *batch_size*"
      ]
    },
    {
      "cell_type": "code",
      "metadata": {
        "id": "v6RAQyGbmF5R",
        "colab_type": "code",
        "colab": {}
      },
      "source": [
        "from EVA5.S6.S6_data_loader import init_train_test_loader"
      ],
      "execution_count": 11,
      "outputs": []
    },
    {
      "cell_type": "markdown",
      "metadata": {
        "id": "hxB3rvKfx62p",
        "colab_type": "text"
      },
      "source": [
        "Define test and train functions"
      ]
    },
    {
      "cell_type": "code",
      "metadata": {
        "id": "UqfCXNm5x9l1",
        "colab_type": "code",
        "colab": {}
      },
      "source": [
        "from EVA5.S6.S6_train_test_function import train\n",
        "from EVA5.S6.S6_train_test_function import test   \n"
      ],
      "execution_count": 12,
      "outputs": []
    },
    {
      "cell_type": "markdown",
      "metadata": {
        "id": "LisKLRn-OSaO",
        "colab_type": "text"
      },
      "source": [
        "Create a function to *initiate_training* for all conditions"
      ]
    },
    {
      "cell_type": "code",
      "metadata": {
        "id": "QgDmlexZOTZy",
        "colab_type": "code",
        "colab": {
          "base_uri": "https://localhost:8080/",
          "height": 420,
          "referenced_widgets": [
            "89d16a967f91447189de94b707a6aa9a",
            "521d608ab74945ac85e32e60d185b196",
            "51c04cdabf2c465a8e62dfef3252c9e1",
            "caa1e4c028cd43cdb86465cb7683c773",
            "864827abbbca42a28649433cd05fc2de",
            "0ca7e9ab3d264fb192004fd74809092d",
            "bbe7247f0fba47f595137b058e94ab33",
            "d7c5ede5b7634298aa08ec53b615ab89",
            "1e8036c74e8443c58909e09ce5724c35",
            "2e41cea0c3b744b09c8db30914450b17",
            "2890f188fd0a49f4b5e7620e935ff746",
            "69040927b9bf45ddbbde7e518ec14f39",
            "8e5f83e3e6ae4e66ad252d8f47b7162a",
            "2e2c6125cd4748459839359b185bcd88",
            "3978628d34aa4461a47411203ee7b51a",
            "888acaf03602484fbd5a497fc97e3359",
            "09561cc15736477b8448eb3e0e420730",
            "bd63b1e792554b97970409d99c740294",
            "472288acf4754298a4b7bc01037bb38d",
            "7cef2874ea0a424a8c1198732c1601d5",
            "bd25370cc95f45e49190ca5dbc8eba5f",
            "212c2dba07454e1d93a492e352d4310c",
            "2210a4cbdde7463f89aa81d949118de7",
            "d79ed3984f5d4d3f8fe1a4354945a2f0",
            "0434e3d082224a7d9941769d539d1c64",
            "1838465c48a747f4bad63c30e32310a4",
            "9e16eeb93efc4fd0a4dba9754a5cd5e3",
            "3a0b30362e744efda1922fd9af07ec66",
            "929f4a55bb814a48a2d26fe14073f15f",
            "a65bc3e79f5047bc808f2a9be17e2bd1",
            "514dceaa0c3349d78f61038872bff3a3",
            "e629d919ac4e4ea986d3979ce88d28c0"
          ]
        },
        "outputId": "9cd365e7-529c-40bc-e837-b844f7de14f6"
      },
      "source": [
        "from torch.optim.lr_scheduler import StepLR\n",
        "from EVA5.S6.S6_init_training import init_training   "
      ],
      "execution_count": 13,
      "outputs": [
        {
          "output_type": "stream",
          "text": [
            "\n",
            " Initialize train and test loader with Batch Size:128\n",
            "Downloading http://yann.lecun.com/exdb/mnist/train-images-idx3-ubyte.gz to ../data/MNIST/raw/train-images-idx3-ubyte.gz\n"
          ],
          "name": "stdout"
        },
        {
          "output_type": "display_data",
          "data": {
            "application/vnd.jupyter.widget-view+json": {
              "model_id": "89d16a967f91447189de94b707a6aa9a",
              "version_minor": 0,
              "version_major": 2
            },
            "text/plain": [
              "HBox(children=(FloatProgress(value=1.0, bar_style='info', max=1.0), HTML(value='')))"
            ]
          },
          "metadata": {
            "tags": []
          }
        },
        {
          "output_type": "stream",
          "text": [
            "Extracting ../data/MNIST/raw/train-images-idx3-ubyte.gz to ../data/MNIST/raw\n",
            "Downloading http://yann.lecun.com/exdb/mnist/train-labels-idx1-ubyte.gz to ../data/MNIST/raw/train-labels-idx1-ubyte.gz\n"
          ],
          "name": "stdout"
        },
        {
          "output_type": "display_data",
          "data": {
            "application/vnd.jupyter.widget-view+json": {
              "model_id": "1e8036c74e8443c58909e09ce5724c35",
              "version_minor": 0,
              "version_major": 2
            },
            "text/plain": [
              "HBox(children=(FloatProgress(value=1.0, bar_style='info', max=1.0), HTML(value='')))"
            ]
          },
          "metadata": {
            "tags": []
          }
        },
        {
          "output_type": "stream",
          "text": [
            "Extracting ../data/MNIST/raw/train-labels-idx1-ubyte.gz to ../data/MNIST/raw\n",
            "Downloading http://yann.lecun.com/exdb/mnist/t10k-images-idx3-ubyte.gz to ../data/MNIST/raw/t10k-images-idx3-ubyte.gz\n",
            "\n"
          ],
          "name": "stdout"
        },
        {
          "output_type": "display_data",
          "data": {
            "application/vnd.jupyter.widget-view+json": {
              "model_id": "09561cc15736477b8448eb3e0e420730",
              "version_minor": 0,
              "version_major": 2
            },
            "text/plain": [
              "HBox(children=(FloatProgress(value=1.0, bar_style='info', max=1.0), HTML(value='')))"
            ]
          },
          "metadata": {
            "tags": []
          }
        },
        {
          "output_type": "stream",
          "text": [
            "Extracting ../data/MNIST/raw/t10k-images-idx3-ubyte.gz to ../data/MNIST/raw\n",
            "Downloading http://yann.lecun.com/exdb/mnist/t10k-labels-idx1-ubyte.gz to ../data/MNIST/raw/t10k-labels-idx1-ubyte.gz\n"
          ],
          "name": "stdout"
        },
        {
          "output_type": "display_data",
          "data": {
            "application/vnd.jupyter.widget-view+json": {
              "model_id": "0434e3d082224a7d9941769d539d1c64",
              "version_minor": 0,
              "version_major": 2
            },
            "text/plain": [
              "HBox(children=(FloatProgress(value=1.0, bar_style='info', max=1.0), HTML(value='')))"
            ]
          },
          "metadata": {
            "tags": []
          }
        },
        {
          "output_type": "stream",
          "text": [
            "Extracting ../data/MNIST/raw/t10k-labels-idx1-ubyte.gz to ../data/MNIST/raw\n",
            "Processing...\n",
            "Done!\n"
          ],
          "name": "stdout"
        },
        {
          "output_type": "stream",
          "text": [
            "/usr/local/lib/python3.6/dist-packages/torchvision/datasets/mnist.py:469: UserWarning: The given NumPy array is not writeable, and PyTorch does not support non-writeable tensors. This means you can write to the underlying (supposedly non-writeable) NumPy array using the tensor. You may want to copy the array to protect its data or make it writeable before converting it to a tensor. This type of warning will be suppressed for the rest of this program. (Triggered internally at  /pytorch/torch/csrc/utils/tensor_numpy.cpp:141.)\n",
            "  return torch.from_numpy(parsed.astype(m[2], copy=False)).view(*s)\n"
          ],
          "name": "stderr"
        }
      ]
    },
    {
      "cell_type": "markdown",
      "metadata": {
        "id": "fkAa1D3csHO2",
        "colab_type": "text"
      },
      "source": [
        "## Run: Initialization and trainings"
      ]
    },
    {
      "cell_type": "markdown",
      "metadata": {
        "id": "Sc39elzDeJHj",
        "colab_type": "text"
      },
      "source": [
        "Create the model with normal BatchNormalization"
      ]
    },
    {
      "cell_type": "code",
      "metadata": {
        "id": "fzffz2YOd9oi",
        "colab_type": "code",
        "colab": {
          "base_uri": "https://localhost:8080/",
          "height": 612
        },
        "outputId": "994eb471-ba03-4396-ac89-24fb973d9bc3"
      },
      "source": [
        "model = create_model(device,gbatnor=False)\n",
        "# Set the Epoch\n",
        "EPOCHS = 2\n",
        "model_name_bn = \"EVA5:Submission-Session_6_Model-BatchNormalization.pt\"\n",
        "save_path_bn = F\"/content/gdrive/My Drive/Colab Notebooks/EVA5/S6/{model_name_bn}\"\n",
        "torch.save(model.state_dict(), save_path_bn)\n",
        "print(\"Model Saved: {}\".format(model_name_bn))"
      ],
      "execution_count": 23,
      "outputs": [
        {
          "output_type": "stream",
          "text": [
            "Create the instance of the Net class with GBN = False\n",
            "----------------------------------------------------------------\n",
            "        Layer (type)               Output Shape         Param #\n",
            "================================================================\n",
            "            Conv2d-1            [-1, 8, 26, 26]              72\n",
            "              ReLU-2            [-1, 8, 26, 26]               0\n",
            "       BatchNorm2d-3            [-1, 8, 26, 26]              16\n",
            "            Conv2d-4           [-1, 16, 24, 24]           1,152\n",
            "              ReLU-5           [-1, 16, 24, 24]               0\n",
            "       BatchNorm2d-6           [-1, 16, 24, 24]              32\n",
            "         MaxPool2d-7           [-1, 16, 12, 12]               0\n",
            "            Conv2d-8            [-1, 8, 12, 12]             128\n",
            "              ReLU-9            [-1, 8, 12, 12]               0\n",
            "      BatchNorm2d-10            [-1, 8, 12, 12]              16\n",
            "           Conv2d-11           [-1, 16, 10, 10]           1,152\n",
            "             ReLU-12           [-1, 16, 10, 10]               0\n",
            "      BatchNorm2d-13           [-1, 16, 10, 10]              32\n",
            "           Conv2d-14             [-1, 32, 8, 8]           4,608\n",
            "             ReLU-15             [-1, 32, 8, 8]               0\n",
            "      BatchNorm2d-16             [-1, 32, 8, 8]              64\n",
            "           Conv2d-17             [-1, 10, 8, 8]             320\n",
            "             ReLU-18             [-1, 10, 8, 8]               0\n",
            "      BatchNorm2d-19             [-1, 10, 8, 8]              20\n",
            "        AvgPool2d-20             [-1, 10, 1, 1]               0\n",
            "================================================================\n",
            "Total params: 7,612\n",
            "Trainable params: 7,612\n",
            "Non-trainable params: 0\n",
            "----------------------------------------------------------------\n",
            "Input size (MB): 0.00\n",
            "Forward/backward pass size (MB): 0.48\n",
            "Params size (MB): 0.03\n",
            "Estimated Total Size (MB): 0.51\n",
            "----------------------------------------------------------------\n",
            "Model Saved: EVA5:Submission-Session_6_Model-BatchNormalization.pt\n"
          ],
          "name": "stdout"
        }
      ]
    },
    {
      "cell_type": "markdown",
      "metadata": {
        "id": "B4WXB_n6gS_z",
        "colab_type": "text"
      },
      "source": [
        "Create the model with Ghost BatchNormalization"
      ]
    },
    {
      "cell_type": "code",
      "metadata": {
        "id": "lRJNyPCkgFVN",
        "colab_type": "code",
        "colab": {
          "base_uri": "https://localhost:8080/",
          "height": 612
        },
        "outputId": "a5753c07-0c29-48b3-d582-1192ac8007d7"
      },
      "source": [
        "model1 = create_model(device, gbatnor=True)\n",
        "model_name_gbn = \"EVA5:Submission-Session_6_Model-GhostBatchNormalization.pt\"\n",
        "save_path_gbn = F\"/content/gdrive/My Drive/Colab Notebooks/EVA5/S6/{model_name_gbn}\"\n",
        "torch.save(model1.state_dict(), save_path_gbn)\n",
        "print(\"Model Saved: {}\".format(model_name_gbn))"
      ],
      "execution_count": 25,
      "outputs": [
        {
          "output_type": "stream",
          "text": [
            "Create the instance of the Net class with GBN = True\n",
            "----------------------------------------------------------------\n",
            "        Layer (type)               Output Shape         Param #\n",
            "================================================================\n",
            "            Conv2d-1            [-1, 8, 26, 26]              72\n",
            "              ReLU-2            [-1, 8, 26, 26]               0\n",
            "    GhostBatchNorm-3            [-1, 8, 26, 26]              16\n",
            "            Conv2d-4           [-1, 16, 24, 24]           1,152\n",
            "              ReLU-5           [-1, 16, 24, 24]               0\n",
            "    GhostBatchNorm-6           [-1, 16, 24, 24]              32\n",
            "         MaxPool2d-7           [-1, 16, 12, 12]               0\n",
            "            Conv2d-8            [-1, 8, 12, 12]             128\n",
            "              ReLU-9            [-1, 8, 12, 12]               0\n",
            "   GhostBatchNorm-10            [-1, 8, 12, 12]              16\n",
            "           Conv2d-11           [-1, 16, 10, 10]           1,152\n",
            "             ReLU-12           [-1, 16, 10, 10]               0\n",
            "   GhostBatchNorm-13           [-1, 16, 10, 10]              32\n",
            "           Conv2d-14             [-1, 32, 8, 8]           4,608\n",
            "             ReLU-15             [-1, 32, 8, 8]               0\n",
            "   GhostBatchNorm-16             [-1, 32, 8, 8]              64\n",
            "           Conv2d-17             [-1, 10, 8, 8]             320\n",
            "             ReLU-18             [-1, 10, 8, 8]               0\n",
            "   GhostBatchNorm-19             [-1, 10, 8, 8]              20\n",
            "        AvgPool2d-20             [-1, 10, 1, 1]               0\n",
            "================================================================\n",
            "Total params: 7,612\n",
            "Trainable params: 7,612\n",
            "Non-trainable params: 0\n",
            "----------------------------------------------------------------\n",
            "Input size (MB): 0.00\n",
            "Forward/backward pass size (MB): 0.48\n",
            "Params size (MB): 0.03\n",
            "Estimated Total Size (MB): 0.51\n",
            "----------------------------------------------------------------\n",
            "Model Saved: EVA5:Submission-Session_6_Model-GhostBatchNormalization.pt\n"
          ],
          "name": "stdout"
        }
      ]
    },
    {
      "cell_type": "markdown",
      "metadata": {
        "id": "lei6fCbPtV1J",
        "colab_type": "text"
      },
      "source": [
        "1. Cases\n"
      ]
    },
    {
      "cell_type": "code",
      "metadata": {
        "id": "j-wKbBqWsH69",
        "colab_type": "code",
        "colab": {
          "base_uri": "https://localhost:8080/",
          "height": 1000
        },
        "outputId": "88415ee5-e9ad-4f30-abc9-b7d3a48a0698"
      },
      "source": [
        "# Total Loss & Accuracy\n",
        "total_train_losses = []\n",
        "total_train_accuracies = []\n",
        "\n",
        "total_test_losses = []\n",
        "total_test_accuracies = []\n",
        "\n",
        "#####\n",
        "train_loader, test_loader = init_train_test_loader()\n",
        "\n",
        "\n",
        "# with L1 and BN\n",
        "Case1=[\"L1 and BN\",model, device, train_loader, EPOCHS, False, 1e-5, False]\n",
        "# with L2 and BN\n",
        "Case2=[\"L2 and BN\",model, device, train_loader, EPOCHS,False, None, True]\n",
        "# with L1, L2 and BN\n",
        "Case3=[\"L1, L2 and BN\",model, device, train_loader, EPOCHS,  True, 1e-5,True]\n",
        "# with GBN\n",
        "Case4=[\"GBN\",model1, device, train_loader, EPOCHS, False, 1e-5,False]\n",
        "# with L1, L2 and GBN\n",
        "Case5=[\"L1, L2 and GBN\",model1, device, train_loader, EPOCHS, True, 1e-5, True]\n",
        "\n",
        "Cases=[Case1,Case2,Case3,Case4,Case5]\n",
        "\n",
        "for case in Cases:\n",
        "  # Loss train & test\n",
        "  train_losses = []\n",
        "  test_losses = []  \n",
        "  # Accuracy train & test\n",
        "  train_acc = []\n",
        "  test_acc = []\n",
        "  case_name,model, device, train_loader, epochs, step_lr, l1_lambda, l2_en=case\n",
        "  print(\" Below output is for Case\",case_name)\n",
        "  #print(*case)\n",
        "  init_training(model, device, train_loader, epochs,train_losses,train_acc,test_losses,test_acc, step_lr=step_lr, l1_lambda=l1_lambda, l2_en=l2_en)\n",
        "  total_train_losses.extend([train_losses])\n",
        "  total_train_accuracies.extend([train_acc])\n",
        "  total_test_losses.extend([test_losses])\n",
        "  total_test_accuracies.extend([test_acc])\n",
        "  print(total_test_losses)\n",
        "  print(total_test_accuracies)\n",
        "\n",
        "\n",
        "\n",
        "\n"
      ],
      "execution_count": 26,
      "outputs": [
        {
          "output_type": "stream",
          "text": [
            "\r  0%|          | 0/469 [00:00<?, ?it/s]"
          ],
          "name": "stderr"
        },
        {
          "output_type": "stream",
          "text": [
            "\n",
            " Initialize train and test loader with Batch Size:128\n",
            " Below output is for Case L1 and BN\n"
          ],
          "name": "stdout"
        },
        {
          "output_type": "stream",
          "text": [
            "Loss=0.23816536366939545 Batch_id=468 Accuracy=88.75: 100%|██████████| 469/469 [01:00<00:00,  7.80it/s]\n"
          ],
          "name": "stderr"
        },
        {
          "output_type": "stream",
          "text": [
            "\n",
            " Epoch 0, lr 0.01\n"
          ],
          "name": "stdout"
        },
        {
          "output_type": "stream",
          "text": [
            "Loss=0.22349758446216583 Batch_id=0 Accuracy=96.09:   0%|          | 1/469 [00:00<00:59,  7.81it/s]"
          ],
          "name": "stderr"
        },
        {
          "output_type": "stream",
          "text": [
            "\n",
            "Test set: Average loss: 0.1913, Accuracy: 9735/10000 (97.35%)\n",
            "\n"
          ],
          "name": "stdout"
        },
        {
          "output_type": "stream",
          "text": [
            "Loss=0.20331117510795593 Batch_id=468 Accuracy=96.90: 100%|██████████| 469/469 [01:00<00:00,  7.75it/s]\n"
          ],
          "name": "stderr"
        },
        {
          "output_type": "stream",
          "text": [
            "\n",
            " Epoch 1, lr 0.01\n"
          ],
          "name": "stdout"
        },
        {
          "output_type": "stream",
          "text": [
            "Loss=0.09586016833782196 Batch_id=0 Accuracy=99.22:   0%|          | 1/469 [00:00<01:06,  7.08it/s]"
          ],
          "name": "stderr"
        },
        {
          "output_type": "stream",
          "text": [
            "\n",
            "Test set: Average loss: 0.1027, Accuracy: 9835/10000 (98.35%)\n",
            "\n",
            "[[0.19127660641670227, 0.10271446784734727]]\n",
            "[[97.35, 98.35]]\n",
            " Below output is for Case L2 and BN\n"
          ],
          "name": "stdout"
        },
        {
          "output_type": "stream",
          "text": [
            "Loss=0.11987433582544327 Batch_id=468 Accuracy=97.70: 100%|██████████| 469/469 [00:59<00:00,  7.84it/s]\n"
          ],
          "name": "stderr"
        },
        {
          "output_type": "stream",
          "text": [
            "\n",
            " Epoch 0, lr 0.01\n"
          ],
          "name": "stdout"
        },
        {
          "output_type": "stream",
          "text": [
            "Loss=0.13391567766666412 Batch_id=0 Accuracy=97.66:   0%|          | 1/469 [00:00<01:04,  7.22it/s]"
          ],
          "name": "stderr"
        },
        {
          "output_type": "stream",
          "text": [
            "\n",
            "Test set: Average loss: 0.0721, Accuracy: 9880/10000 (98.80%)\n",
            "\n"
          ],
          "name": "stdout"
        },
        {
          "output_type": "stream",
          "text": [
            "Loss=0.09099041670560837 Batch_id=468 Accuracy=98.00: 100%|██████████| 469/469 [01:00<00:00,  7.80it/s]\n"
          ],
          "name": "stderr"
        },
        {
          "output_type": "stream",
          "text": [
            "\n",
            " Epoch 1, lr 0.01\n"
          ],
          "name": "stdout"
        },
        {
          "output_type": "stream",
          "text": [
            "Loss=0.06150989979505539 Batch_id=0 Accuracy=100.00:   0%|          | 1/469 [00:00<00:58,  7.95it/s]"
          ],
          "name": "stderr"
        },
        {
          "output_type": "stream",
          "text": [
            "\n",
            "Test set: Average loss: 0.0835, Accuracy: 9818/10000 (98.18%)\n",
            "\n",
            "[[0.19127660641670227, 0.10271446784734727], [0.0720560862004757, 0.08351979827284813]]\n",
            "[[97.35, 98.35], [98.8, 98.18]]\n",
            " Below output is for Case L1, L2 and BN\n"
          ],
          "name": "stdout"
        },
        {
          "output_type": "stream",
          "text": [
            "Loss=0.05571470037102699 Batch_id=468 Accuracy=98.15: 100%|██████████| 469/469 [01:00<00:00,  7.78it/s]\n"
          ],
          "name": "stderr"
        },
        {
          "output_type": "stream",
          "text": [
            "\n",
            " Epoch 0, lr 0.01\n"
          ],
          "name": "stdout"
        },
        {
          "output_type": "stream",
          "text": [
            "Loss=0.07820574939250946 Batch_id=0 Accuracy=99.22:   0%|          | 1/469 [00:00<00:58,  7.98it/s]"
          ],
          "name": "stderr"
        },
        {
          "output_type": "stream",
          "text": [
            "\n",
            "Test set: Average loss: 0.0564, Accuracy: 9883/10000 (98.83%)\n",
            "\n"
          ],
          "name": "stdout"
        },
        {
          "output_type": "stream",
          "text": [
            "Loss=0.14923174679279327 Batch_id=468 Accuracy=98.27: 100%|██████████| 469/469 [01:00<00:00,  7.75it/s]\n"
          ],
          "name": "stderr"
        },
        {
          "output_type": "stream",
          "text": [
            "\n",
            " Epoch 1, lr 0.01\n"
          ],
          "name": "stdout"
        },
        {
          "output_type": "stream",
          "text": [
            "Loss=2.2532546520233154 Batch_id=0 Accuracy=18.75:   0%|          | 1/469 [00:00<01:00,  7.71it/s]"
          ],
          "name": "stderr"
        },
        {
          "output_type": "stream",
          "text": [
            "\n",
            "Test set: Average loss: 0.0541, Accuracy: 9876/10000 (98.76%)\n",
            "\n",
            "[[0.19127660641670227, 0.10271446784734727], [0.0720560862004757, 0.08351979827284813], [0.05638482644557953, 0.054088410252332686]]\n",
            "[[97.35, 98.35], [98.8, 98.18], [98.83, 98.76]]\n",
            " Below output is for Case GBN\n"
          ],
          "name": "stdout"
        },
        {
          "output_type": "stream",
          "text": [
            "Loss=0.22920840978622437 Batch_id=468 Accuracy=88.01: 100%|██████████| 469/469 [01:00<00:00,  7.78it/s]\n"
          ],
          "name": "stderr"
        },
        {
          "output_type": "stream",
          "text": [
            "\n",
            " Epoch 0, lr 0.01\n"
          ],
          "name": "stdout"
        },
        {
          "output_type": "stream",
          "text": [
            "Loss=0.2319316267967224 Batch_id=0 Accuracy=96.88:   0%|          | 1/469 [00:00<01:00,  7.76it/s]"
          ],
          "name": "stderr"
        },
        {
          "output_type": "stream",
          "text": [
            "\n",
            "Test set: Average loss: 0.1762, Accuracy: 9759/10000 (97.59%)\n",
            "\n"
          ],
          "name": "stdout"
        },
        {
          "output_type": "stream",
          "text": [
            "Loss=0.14701399207115173 Batch_id=468 Accuracy=96.56: 100%|██████████| 469/469 [01:00<00:00,  7.80it/s]\n"
          ],
          "name": "stderr"
        },
        {
          "output_type": "stream",
          "text": [
            "\n",
            " Epoch 1, lr 0.01\n"
          ],
          "name": "stdout"
        },
        {
          "output_type": "stream",
          "text": [
            "Loss=0.17024970054626465 Batch_id=0 Accuracy=96.88:   0%|          | 1/469 [00:00<01:01,  7.62it/s]"
          ],
          "name": "stderr"
        },
        {
          "output_type": "stream",
          "text": [
            "\n",
            "Test set: Average loss: 0.1011, Accuracy: 9833/10000 (98.33%)\n",
            "\n",
            "[[0.19127660641670227, 0.10271446784734727], [0.0720560862004757, 0.08351979827284813], [0.05638482644557953, 0.054088410252332686], [0.17615467166900634, 0.10111294231414795]]\n",
            "[[97.35, 98.35], [98.8, 98.18], [98.83, 98.76], [97.59, 98.33]]\n",
            " Below output is for Case L1, L2 and GBN\n"
          ],
          "name": "stdout"
        },
        {
          "output_type": "stream",
          "text": [
            "Loss=0.08502171188592911 Batch_id=468 Accuracy=97.39: 100%|██████████| 469/469 [01:00<00:00,  7.74it/s]\n"
          ],
          "name": "stderr"
        },
        {
          "output_type": "stream",
          "text": [
            "\n",
            " Epoch 0, lr 0.01\n"
          ],
          "name": "stdout"
        },
        {
          "output_type": "stream",
          "text": [
            "Loss=0.07235781103372574 Batch_id=0 Accuracy=100.00:   0%|          | 1/469 [00:00<01:00,  7.67it/s]"
          ],
          "name": "stderr"
        },
        {
          "output_type": "stream",
          "text": [
            "\n",
            "Test set: Average loss: 0.0739, Accuracy: 9855/10000 (98.55%)\n",
            "\n"
          ],
          "name": "stdout"
        },
        {
          "output_type": "stream",
          "text": [
            "Loss=0.12704473733901978 Batch_id=468 Accuracy=97.71: 100%|██████████| 469/469 [01:00<00:00,  7.72it/s]\n"
          ],
          "name": "stderr"
        },
        {
          "output_type": "stream",
          "text": [
            "\n",
            " Epoch 1, lr 0.01\n",
            "\n",
            "Test set: Average loss: 0.0651, Accuracy: 9867/10000 (98.67%)\n",
            "\n",
            "[[0.19127660641670227, 0.10271446784734727], [0.0720560862004757, 0.08351979827284813], [0.05638482644557953, 0.054088410252332686], [0.17615467166900634, 0.10111294231414795], [0.07385483648180961, 0.06505319301038981]]\n",
            "[[97.35, 98.35], [98.8, 98.18], [98.83, 98.76], [97.59, 98.33], [98.55, 98.67]]\n"
          ],
          "name": "stdout"
        }
      ]
    },
    {
      "cell_type": "code",
      "metadata": {
        "id": "2C0gv5Uwqg2j",
        "colab_type": "code",
        "colab": {
          "base_uri": "https://localhost:8080/",
          "height": 730
        },
        "outputId": "52495e54-3e19-4c9f-86db-4252bbbc7787"
      },
      "source": [
        "#Plot for Test Losses for Different Cases\n",
        "plot_stat(total_test_losses, 'Loss')"
      ],
      "execution_count": 27,
      "outputs": [
        {
          "output_type": "display_data",
          "data": {
            "image/png": "[encoded data removed]",
            "text/plain": [
              "<Figure size 1440x864 with 1 Axes>"
            ]
          },
          "metadata": {
            "tags": [],
            "needs_background": "light"
          }
        }
      ]
    },
    {
      "cell_type": "code",
      "metadata": {
        "id": "jrzeYvX3qmG8",
        "colab_type": "code",
        "colab": {
          "base_uri": "https://localhost:8080/",
          "height": 747
        },
        "outputId": "1b81d5ee-710c-42d1-9770-b8379decc87d"
      },
      "source": [
        "# Plot for Test accuracy for Different Cases\n",
        "print(total_test_accuracies)\n",
        "plot_stat(total_test_accuracies, 'Acc')"
      ],
      "execution_count": 28,
      "outputs": [
        {
          "output_type": "stream",
          "text": [
            "[[97.35, 98.35], [98.8, 98.18], [98.83, 98.76], [97.59, 98.33], [98.55, 98.67]]\n"
          ],
          "name": "stdout"
        },
        {
          "output_type": "display_data",
          "data": {
            "image/png": "[encoded data removed]",
            "text/plain": [
              "<Figure size 1440x864 with 1 Axes>"
            ]
          },
          "metadata": {
            "tags": [],
            "needs_background": "light"
          }
        }
      ]
    },
    {
      "cell_type": "code",
      "metadata": {
        "id": "pcxNW_L44qzQ",
        "colab_type": "code",
        "colab": {
          "base_uri": "https://localhost:8080/",
          "height": 370
        },
        "outputId": "0333fac1-2282-4ebc-db62-5c4d52b9505a"
      },
      "source": [
        "misclassified_image_finder(model, save_path_gbn, device, train_loader, EPOCHS, \"Ghost Batch Normalization\")"
      ],
      "execution_count": 19,
      "outputs": [
        {
          "output_type": "stream",
          "text": [
            "/usr/local/lib/python3.6/dist-packages/ipykernel_launcher.py:23: MatplotlibDeprecationWarning: Adding an axes using the same arguments as a previous axes currently reuses the earlier instance.  In a future version, a new instance will always be created and returned.  Meanwhile, this warning can be suppressed, and the future behavior ensured, by passing a unique label to each axes instance.\n"
          ],
          "name": "stderr"
        },
        {
          "output_type": "error",
          "ename": "IndexError",
          "evalue": "ignored",
          "traceback": [
            "\u001b[0;31m---------------------------------------------------------------------------\u001b[0m",
            "\u001b[0;31mIndexError\u001b[0m                                Traceback (most recent call last)",
            "\u001b[0;32m<ipython-input-19-da710b15eae2>\u001b[0m in \u001b[0;36m<module>\u001b[0;34m()\u001b[0m\n\u001b[0;32m----> 1\u001b[0;31m \u001b[0mmisclassified_image_finder\u001b[0m\u001b[0;34m(\u001b[0m\u001b[0mmodel\u001b[0m\u001b[0;34m,\u001b[0m \u001b[0msave_path_gbn\u001b[0m\u001b[0;34m,\u001b[0m \u001b[0mdevice\u001b[0m\u001b[0;34m,\u001b[0m \u001b[0mtrain_loader\u001b[0m\u001b[0;34m,\u001b[0m \u001b[0mEPOCHS\u001b[0m\u001b[0;34m,\u001b[0m \u001b[0;34m\"Ghost Batch Normalization\"\u001b[0m\u001b[0;34m)\u001b[0m\u001b[0;34m\u001b[0m\u001b[0;34m\u001b[0m\u001b[0m\n\u001b[0m",
            "\u001b[0;32m<ipython-input-7-58c212c3aa0c>\u001b[0m in \u001b[0;36mmisclassified_image_finder\u001b[0;34m(model, model_path, device, train_loader, image_num, msg)\u001b[0m\n\u001b[1;32m     19\u001b[0m \u001b[0;34m\u001b[0m\u001b[0m\n\u001b[1;32m     20\u001b[0m           \u001b[0;32mfor\u001b[0m \u001b[0ma\u001b[0m \u001b[0;32min\u001b[0m \u001b[0mrange\u001b[0m\u001b[0;34m(\u001b[0m\u001b[0;36m256\u001b[0m\u001b[0;34m)\u001b[0m\u001b[0;34m:\u001b[0m\u001b[0;34m\u001b[0m\u001b[0;34m\u001b[0m\u001b[0m\n\u001b[0;32m---> 21\u001b[0;31m               \u001b[0;32mif\u001b[0m\u001b[0;34m(\u001b[0m\u001b[0mpred\u001b[0m\u001b[0;34m[\u001b[0m\u001b[0ma\u001b[0m\u001b[0;34m]\u001b[0m\u001b[0;34m!=\u001b[0m\u001b[0mtarget\u001b[0m\u001b[0;34m[\u001b[0m\u001b[0ma\u001b[0m\u001b[0;34m]\u001b[0m\u001b[0;34m)\u001b[0m\u001b[0;34m:\u001b[0m\u001b[0;34m\u001b[0m\u001b[0;34m\u001b[0m\u001b[0m\n\u001b[0m\u001b[1;32m     22\u001b[0m \u001b[0;34m\u001b[0m\u001b[0m\n\u001b[1;32m     23\u001b[0m                   \u001b[0mplt\u001b[0m\u001b[0;34m.\u001b[0m\u001b[0msubplot\u001b[0m\u001b[0;34m(\u001b[0m\u001b[0;36m5\u001b[0m\u001b[0;34m,\u001b[0m\u001b[0;36m5\u001b[0m\u001b[0;34m,\u001b[0m\u001b[0m_i\u001b[0m\u001b[0;34m+\u001b[0m\u001b[0;36m1\u001b[0m\u001b[0;34m)\u001b[0m\u001b[0;34m\u001b[0m\u001b[0;34m\u001b[0m\u001b[0m\n",
            "\u001b[0;31mIndexError\u001b[0m: index 128 is out of bounds for dimension 0 with size 128"
          ]
        },
        {
          "output_type": "display_data",
          "data": {
            "image/png": "[encoded data removed]",
            "text/plain": [
              "<Figure size 432x288 with 1 Axes>"
            ]
          },
          "metadata": {
            "tags": [],
            "needs_background": "light"
          }
        }
      ]
    },
    {
      "cell_type": "markdown",
      "metadata": {
        "id": "DfKfRhnqO6mJ",
        "colab_type": "text"
      },
      "source": [
        "## Summary:\n",
        "\n",
        "A simple DNN with Total params=7,612 was created and trained for 25 epochs with L1, L2 Regularization, Batch Normalization and Ghost Batch Normalization. \n",
        "\n",
        "Following are the accuracy observed:\n",
        "\n",
        "> 1. with L1 + BN => **99.29%**\n",
        "2. with L2 + BN => **99.31%**\n",
        "3. with L1 and L2 with BN => **99.47%**\n",
        "4. with GBN => **98.9%**\n",
        "5. with L1 and L2 with GBN => **99.33%**\n",
        "\n",
        "Reference:\n",
        "* GBN:  https://github.com/apple/ml-cifar-10-faster/blob/master/utils.py\n",
        "\n"
      ]
    }
  ]
}